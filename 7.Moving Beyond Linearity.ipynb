{
 "cells": [
  {
   "cell_type": "code",
   "execution_count": 1,
   "metadata": {},
   "outputs": [],
   "source": [
    "import pandas as pd\n",
    "import numpy as np\n",
    "import matplotlib.pyplot as plt\n",
    "import seaborn as sns\n",
    "\n",
    "from sklearn.linear_model import LinearRegression\n",
    "from sklearn.preprocessing import PolynomialFeatures\n",
    "import statsmodels.api as sm\n",
    "import statsmodels.formula.api as smf\n",
    "from scipy.interpolate import UnivariateSpline\n",
    "from patsy import dmatrix\n",
    "\n",
    "#from pygam import GAM, s, f\n",
    "from IPython.display import Image\n",
    "%matplotlib inline"
   ]
  },
  {
   "cell_type": "code",
   "execution_count": 2,
   "metadata": {},
   "outputs": [
    {
     "data": {
      "image/png": "[encoded data removed]",
      "text/plain": [
       "<IPython.core.display.Image object>"
      ]
     },
     "execution_count": 2,
     "metadata": {},
     "output_type": "execute_result"
    }
   ],
   "source": [
    "Image(\"C:\\\\Users\\\\Hanyuri\\\\Documents\\\\문서\\\\대학원 스터디\\\\R_data.png\")"
   ]
  },
  {
   "cell_type": "code",
   "execution_count": 3,
   "metadata": {
    "scrolled": true
   },
   "outputs": [
    {
     "data": {
      "text/html": [
       "<div>\n",
       "<style scoped>\n",
       "    .dataframe tbody tr th:only-of-type {\n",
       "        vertical-align: middle;\n",
       "    }\n",
       "\n",
       "    .dataframe tbody tr th {\n",
       "        vertical-align: top;\n",
       "    }\n",
       "\n",
       "    .dataframe thead th {\n",
       "        text-align: right;\n",
       "    }\n",
       "</style>\n",
       "<table border=\"1\" class=\"dataframe\">\n",
       "  <thead>\n",
       "    <tr style=\"text-align: right;\">\n",
       "      <th></th>\n",
       "      <th>Unnamed: 0</th>\n",
       "      <th>year</th>\n",
       "      <th>age</th>\n",
       "      <th>maritl</th>\n",
       "      <th>race</th>\n",
       "      <th>education</th>\n",
       "      <th>region</th>\n",
       "      <th>jobclass</th>\n",
       "      <th>health</th>\n",
       "      <th>health_ins</th>\n",
       "      <th>logwage</th>\n",
       "      <th>wage</th>\n",
       "    </tr>\n",
       "  </thead>\n",
       "  <tbody>\n",
       "    <tr>\n",
       "      <th>0</th>\n",
       "      <td>231655</td>\n",
       "      <td>2006</td>\n",
       "      <td>18</td>\n",
       "      <td>1. Never Married</td>\n",
       "      <td>1. White</td>\n",
       "      <td>1. &lt; HS Grad</td>\n",
       "      <td>2. Middle Atlantic</td>\n",
       "      <td>1. Industrial</td>\n",
       "      <td>1. &lt;=Good</td>\n",
       "      <td>2. No</td>\n",
       "      <td>4.318063</td>\n",
       "      <td>75.043154</td>\n",
       "    </tr>\n",
       "    <tr>\n",
       "      <th>1</th>\n",
       "      <td>86582</td>\n",
       "      <td>2004</td>\n",
       "      <td>24</td>\n",
       "      <td>1. Never Married</td>\n",
       "      <td>1. White</td>\n",
       "      <td>4. College Grad</td>\n",
       "      <td>2. Middle Atlantic</td>\n",
       "      <td>2. Information</td>\n",
       "      <td>2. &gt;=Very Good</td>\n",
       "      <td>2. No</td>\n",
       "      <td>4.255273</td>\n",
       "      <td>70.476020</td>\n",
       "    </tr>\n",
       "    <tr>\n",
       "      <th>2</th>\n",
       "      <td>161300</td>\n",
       "      <td>2003</td>\n",
       "      <td>45</td>\n",
       "      <td>2. Married</td>\n",
       "      <td>1. White</td>\n",
       "      <td>3. Some College</td>\n",
       "      <td>2. Middle Atlantic</td>\n",
       "      <td>1. Industrial</td>\n",
       "      <td>1. &lt;=Good</td>\n",
       "      <td>1. Yes</td>\n",
       "      <td>4.875061</td>\n",
       "      <td>130.982177</td>\n",
       "    </tr>\n",
       "    <tr>\n",
       "      <th>3</th>\n",
       "      <td>155159</td>\n",
       "      <td>2003</td>\n",
       "      <td>43</td>\n",
       "      <td>2. Married</td>\n",
       "      <td>3. Asian</td>\n",
       "      <td>4. College Grad</td>\n",
       "      <td>2. Middle Atlantic</td>\n",
       "      <td>2. Information</td>\n",
       "      <td>2. &gt;=Very Good</td>\n",
       "      <td>1. Yes</td>\n",
       "      <td>5.041393</td>\n",
       "      <td>154.685293</td>\n",
       "    </tr>\n",
       "    <tr>\n",
       "      <th>4</th>\n",
       "      <td>11443</td>\n",
       "      <td>2005</td>\n",
       "      <td>50</td>\n",
       "      <td>4. Divorced</td>\n",
       "      <td>1. White</td>\n",
       "      <td>2. HS Grad</td>\n",
       "      <td>2. Middle Atlantic</td>\n",
       "      <td>2. Information</td>\n",
       "      <td>1. &lt;=Good</td>\n",
       "      <td>1. Yes</td>\n",
       "      <td>4.318063</td>\n",
       "      <td>75.043154</td>\n",
       "    </tr>\n",
       "  </tbody>\n",
       "</table>\n",
       "</div>"
      ],
      "text/plain": [
       "   Unnamed: 0  year  age            maritl      race        education  \\\n",
       "0      231655  2006   18  1. Never Married  1. White     1. < HS Grad   \n",
       "1       86582  2004   24  1. Never Married  1. White  4. College Grad   \n",
       "2      161300  2003   45        2. Married  1. White  3. Some College   \n",
       "3      155159  2003   43        2. Married  3. Asian  4. College Grad   \n",
       "4       11443  2005   50       4. Divorced  1. White       2. HS Grad   \n",
       "\n",
       "               region        jobclass          health health_ins   logwage  \\\n",
       "0  2. Middle Atlantic   1. Industrial       1. <=Good      2. No  4.318063   \n",
       "1  2. Middle Atlantic  2. Information  2. >=Very Good      2. No  4.255273   \n",
       "2  2. Middle Atlantic   1. Industrial       1. <=Good     1. Yes  4.875061   \n",
       "3  2. Middle Atlantic  2. Information  2. >=Very Good     1. Yes  5.041393   \n",
       "4  2. Middle Atlantic  2. Information       1. <=Good     1. Yes  4.318063   \n",
       "\n",
       "         wage  \n",
       "0   75.043154  \n",
       "1   70.476020  \n",
       "2  130.982177  \n",
       "3  154.685293  \n",
       "4   75.043154  "
      ]
     },
     "execution_count": 3,
     "metadata": {},
     "output_type": "execute_result"
    }
   ],
   "source": [
    "wage=pd.read_csv('C:\\\\Users\\\\Hanyuri\\\\Wage.csv',engine='python',encoding='949')\n",
    "wage.head()"
   ]
  },
  {
   "cell_type": "code",
   "execution_count": 4,
   "metadata": {},
   "outputs": [
    {
     "name": "stdout",
     "output_type": "stream",
     "text": [
      "<class 'pandas.core.frame.DataFrame'>\n",
      "RangeIndex: 3000 entries, 0 to 2999\n",
      "Data columns (total 12 columns):\n",
      "Unnamed: 0    3000 non-null int64\n",
      "year          3000 non-null int64\n",
      "age           3000 non-null int64\n",
      "maritl        3000 non-null object\n",
      "race          3000 non-null object\n",
      "education     3000 non-null object\n",
      "region        3000 non-null object\n",
      "jobclass      3000 non-null object\n",
      "health        3000 non-null object\n",
      "health_ins    3000 non-null object\n",
      "logwage       3000 non-null float64\n",
      "wage          3000 non-null float64\n",
      "dtypes: float64(2), int64(3), object(7)\n",
      "memory usage: 281.3+ KB\n"
     ]
    }
   ],
   "source": [
    "wage.info()"
   ]
  },
  {
   "cell_type": "markdown",
   "metadata": {},
   "source": [
    "# Polynomial Regression and Step Functions"
   ]
  },
  {
   "cell_type": "code",
   "execution_count": 5,
   "metadata": {},
   "outputs": [],
   "source": [
    "x1 = PolynomialFeatures(1).fit_transform(wage['age'].values.reshape(-1,1))\n",
    "x2 = PolynomialFeatures(2).fit_transform(wage['age'].values.reshape(-1,1))\n",
    "x3 = PolynomialFeatures(3).fit_transform(wage['age'].values.reshape(-1,1))\n",
    "x4 = PolynomialFeatures(4).fit_transform(wage['age'].values.reshape(-1,1))\n",
    "x5 = PolynomialFeatures(5).fit_transform(wage['age'].values.reshape(-1,1))"
   ]
  },
  {
   "cell_type": "code",
   "execution_count": 6,
   "metadata": {},
   "outputs": [
    {
     "data": {
      "text/html": [
       "<table class=\"simpletable\">\n",
       "<tr>\n",
       "      <td></td>         <th>coef</th>     <th>std err</th>      <th>t</th>      <th>P>|t|</th>  <th>[0.025</th>    <th>0.975]</th>  \n",
       "</tr>\n",
       "<tr>\n",
       "  <th>Intercept</th> <td>  -92.0771</td> <td>   30.020</td> <td>   -3.067</td> <td> 0.002</td> <td> -150.939</td> <td>  -33.215</td>\n",
       "</tr>\n",
       "<tr>\n",
       "  <th>x4[0]</th>     <td>  -92.0771</td> <td>   30.020</td> <td>   -3.067</td> <td> 0.002</td> <td> -150.939</td> <td>  -33.215</td>\n",
       "</tr>\n",
       "<tr>\n",
       "  <th>x4[1]</th>     <td>   21.2455</td> <td>    5.887</td> <td>    3.609</td> <td> 0.000</td> <td>    9.703</td> <td>   32.788</td>\n",
       "</tr>\n",
       "<tr>\n",
       "  <th>x4[2]</th>     <td>   -0.5639</td> <td>    0.206</td> <td>   -2.736</td> <td> 0.006</td> <td>   -0.968</td> <td>   -0.160</td>\n",
       "</tr>\n",
       "<tr>\n",
       "  <th>x4[3]</th>     <td>    0.0068</td> <td>    0.003</td> <td>    2.221</td> <td> 0.026</td> <td>    0.001</td> <td>    0.013</td>\n",
       "</tr>\n",
       "<tr>\n",
       "  <th>x4[4]</th>     <td>-3.204e-05</td> <td> 1.64e-05</td> <td>   -1.952</td> <td> 0.051</td> <td>-6.42e-05</td> <td> 1.45e-07</td>\n",
       "</tr>\n",
       "</table>"
      ],
      "text/plain": [
       "<class 'statsmodels.iolib.table.SimpleTable'>"
      ]
     },
     "execution_count": 6,
     "metadata": {},
     "output_type": "execute_result"
    }
   ],
   "source": [
    "lm=smf.ols(formula='wage ~ x4',data=wage).fit()\n",
    "lm.summary().tables[1]"
   ]
  },
  {
   "cell_type": "code",
   "execution_count": 7,
   "metadata": {
    "scrolled": true
   },
   "outputs": [
    {
     "name": "stderr",
     "output_type": "stream",
     "text": [
      "C:\\Users\\Hanyuri\\Anaconda3\\lib\\site-packages\\scipy\\stats\\_distn_infrastructure.py:879: RuntimeWarning: invalid value encountered in greater\n",
      "  return (self.a < x) & (x < self.b)\n",
      "C:\\Users\\Hanyuri\\Anaconda3\\lib\\site-packages\\scipy\\stats\\_distn_infrastructure.py:879: RuntimeWarning: invalid value encountered in less\n",
      "  return (self.a < x) & (x < self.b)\n",
      "C:\\Users\\Hanyuri\\Anaconda3\\lib\\site-packages\\scipy\\stats\\_distn_infrastructure.py:1821: RuntimeWarning: invalid value encountered in less_equal\n",
      "  cond2 = cond0 & (x <= self.a)\n"
     ]
    },
    {
     "data": {
      "text/html": [
       "<div>\n",
       "<style scoped>\n",
       "    .dataframe tbody tr th:only-of-type {\n",
       "        vertical-align: middle;\n",
       "    }\n",
       "\n",
       "    .dataframe tbody tr th {\n",
       "        vertical-align: top;\n",
       "    }\n",
       "\n",
       "    .dataframe thead th {\n",
       "        text-align: right;\n",
       "    }\n",
       "</style>\n",
       "<table border=\"1\" class=\"dataframe\">\n",
       "  <thead>\n",
       "    <tr style=\"text-align: right;\">\n",
       "      <th></th>\n",
       "      <th>df_resid</th>\n",
       "      <th>ssr</th>\n",
       "      <th>df_diff</th>\n",
       "      <th>ss_diff</th>\n",
       "      <th>F</th>\n",
       "      <th>Pr(&gt;F)</th>\n",
       "    </tr>\n",
       "  </thead>\n",
       "  <tbody>\n",
       "    <tr>\n",
       "      <th>0</th>\n",
       "      <td>2998.0</td>\n",
       "      <td>5.022216e+06</td>\n",
       "      <td>0.0</td>\n",
       "      <td>NaN</td>\n",
       "      <td>NaN</td>\n",
       "      <td>NaN</td>\n",
       "    </tr>\n",
       "    <tr>\n",
       "      <th>1</th>\n",
       "      <td>2997.0</td>\n",
       "      <td>4.793430e+06</td>\n",
       "      <td>1.0</td>\n",
       "      <td>228786.010128</td>\n",
       "      <td>143.593107</td>\n",
       "      <td>2.363850e-32</td>\n",
       "    </tr>\n",
       "    <tr>\n",
       "      <th>2</th>\n",
       "      <td>2996.0</td>\n",
       "      <td>4.777674e+06</td>\n",
       "      <td>1.0</td>\n",
       "      <td>15755.693664</td>\n",
       "      <td>9.888756</td>\n",
       "      <td>1.679202e-03</td>\n",
       "    </tr>\n",
       "    <tr>\n",
       "      <th>3</th>\n",
       "      <td>2995.0</td>\n",
       "      <td>4.771604e+06</td>\n",
       "      <td>1.0</td>\n",
       "      <td>6070.152124</td>\n",
       "      <td>3.809813</td>\n",
       "      <td>5.104620e-02</td>\n",
       "    </tr>\n",
       "    <tr>\n",
       "      <th>4</th>\n",
       "      <td>2994.0</td>\n",
       "      <td>4.770322e+06</td>\n",
       "      <td>1.0</td>\n",
       "      <td>1282.563017</td>\n",
       "      <td>0.804976</td>\n",
       "      <td>3.696820e-01</td>\n",
       "    </tr>\n",
       "  </tbody>\n",
       "</table>\n",
       "</div>"
      ],
      "text/plain": [
       "   df_resid           ssr  df_diff        ss_diff           F        Pr(>F)\n",
       "0    2998.0  5.022216e+06      0.0            NaN         NaN           NaN\n",
       "1    2997.0  4.793430e+06      1.0  228786.010128  143.593107  2.363850e-32\n",
       "2    2996.0  4.777674e+06      1.0   15755.693664    9.888756  1.679202e-03\n",
       "3    2995.0  4.771604e+06      1.0    6070.152124    3.809813  5.104620e-02\n",
       "4    2994.0  4.770322e+06      1.0    1282.563017    0.804976  3.696820e-01"
      ]
     },
     "execution_count": 7,
     "metadata": {},
     "output_type": "execute_result"
    }
   ],
   "source": [
    "fit1=smf.ols(formula='wage ~ x1',data=wage).fit()\n",
    "fit2=smf.ols(formula='wage ~ x2',data=wage).fit()\n",
    "fit3=smf.ols(formula='wage ~ x3',data=wage).fit()\n",
    "fit4=smf.ols(formula='wage ~ x4',data=wage).fit()\n",
    "fit5=smf.ols(formula='wage ~ x5',data=wage).fit()\n",
    "sm.stats.anova_lm(fit1,fit2,fit3,fit4,fit5, typ=1)"
   ]
  },
  {
   "cell_type": "code",
   "execution_count": 8,
   "metadata": {},
   "outputs": [],
   "source": [
    "#  df_resid : 잔차 자유도\n",
    "#  ssr(rss) : 잔차 제곱합\n",
    "#  df_diff : 이전 모델과의 자유도 차이\n",
    "#  ss_diff : 이전 모델과의 ssr 차이\n",
    "# fit1과 fit2의 차이가 1번 이고 , fit2와 fit3의 차이가 2번 임\n",
    "# 여러모델 분석은 tpy=1 일때만 가능\n",
    "# 여기서는 단순히 차수에 따른 모델의 차이를 나타냄. p값을 살펴보면 3차와 4차의 p값이 0.05쯤으로 가장 적합\n"
   ]
  },
  {
   "cell_type": "code",
   "execution_count": 9,
   "metadata": {},
   "outputs": [
    {
     "data": {
      "text/html": [
       "<table class=\"simpletable\">\n",
       "<tr>\n",
       "      <td></td>         <th>coef</th>     <th>std err</th>      <th>t</th>      <th>P>|t|</th>  <th>[0.025</th>    <th>0.975]</th>  \n",
       "</tr>\n",
       "<tr>\n",
       "  <th>Intercept</th> <td>  -24.8523</td> <td>   80.718</td> <td>   -0.308</td> <td> 0.758</td> <td> -183.120</td> <td>  133.415</td>\n",
       "</tr>\n",
       "<tr>\n",
       "  <th>x5[0]</th>     <td>  -24.8523</td> <td>   80.718</td> <td>   -0.308</td> <td> 0.758</td> <td> -183.120</td> <td>  133.415</td>\n",
       "</tr>\n",
       "<tr>\n",
       "  <th>x5[1]</th>     <td>    3.9930</td> <td>   20.110</td> <td>    0.199</td> <td> 0.843</td> <td>  -35.438</td> <td>   43.424</td>\n",
       "</tr>\n",
       "<tr>\n",
       "  <th>x5[2]</th>     <td>    0.2760</td> <td>    0.958</td> <td>    0.288</td> <td> 0.773</td> <td>   -1.603</td> <td>    2.155</td>\n",
       "</tr>\n",
       "<tr>\n",
       "  <th>x5[3]</th>     <td>   -0.0126</td> <td>    0.022</td> <td>   -0.577</td> <td> 0.564</td> <td>   -0.056</td> <td>    0.030</td>\n",
       "</tr>\n",
       "<tr>\n",
       "  <th>x5[4]</th>     <td>    0.0002</td> <td>    0.000</td> <td>    0.762</td> <td> 0.446</td> <td>   -0.000</td> <td>    0.001</td>\n",
       "</tr>\n",
       "<tr>\n",
       "  <th>x5[5]</th>     <td>-9.157e-07</td> <td> 1.02e-06</td> <td>   -0.897</td> <td> 0.370</td> <td>-2.92e-06</td> <td> 1.09e-06</td>\n",
       "</tr>\n",
       "</table>"
      ],
      "text/plain": [
       "<class 'statsmodels.iolib.table.SimpleTable'>"
      ]
     },
     "execution_count": 9,
     "metadata": {},
     "output_type": "execute_result"
    }
   ],
   "source": [
    "fit5.summary().tables[1]"
   ]
  },
  {
   "cell_type": "code",
   "execution_count": 11,
   "metadata": {},
   "outputs": [
    {
     "name": "stderr",
     "output_type": "stream",
     "text": [
      "C:\\Users\\Hanyuri\\Anaconda3\\lib\\site-packages\\scipy\\stats\\_distn_infrastructure.py:879: RuntimeWarning: invalid value encountered in greater\n",
      "  return (self.a < x) & (x < self.b)\n",
      "C:\\Users\\Hanyuri\\Anaconda3\\lib\\site-packages\\scipy\\stats\\_distn_infrastructure.py:879: RuntimeWarning: invalid value encountered in less\n",
      "  return (self.a < x) & (x < self.b)\n",
      "C:\\Users\\Hanyuri\\Anaconda3\\lib\\site-packages\\scipy\\stats\\_distn_infrastructure.py:1821: RuntimeWarning: invalid value encountered in less_equal\n",
      "  cond2 = cond0 & (x <= self.a)\n"
     ]
    },
    {
     "data": {
      "text/html": [
       "<div>\n",
       "<style scoped>\n",
       "    .dataframe tbody tr th:only-of-type {\n",
       "        vertical-align: middle;\n",
       "    }\n",
       "\n",
       "    .dataframe tbody tr th {\n",
       "        vertical-align: top;\n",
       "    }\n",
       "\n",
       "    .dataframe thead th {\n",
       "        text-align: right;\n",
       "    }\n",
       "</style>\n",
       "<table border=\"1\" class=\"dataframe\">\n",
       "  <thead>\n",
       "    <tr style=\"text-align: right;\">\n",
       "      <th></th>\n",
       "      <th>df_resid</th>\n",
       "      <th>ssr</th>\n",
       "      <th>df_diff</th>\n",
       "      <th>ss_diff</th>\n",
       "      <th>F</th>\n",
       "      <th>Pr(&gt;F)</th>\n",
       "    </tr>\n",
       "  </thead>\n",
       "  <tbody>\n",
       "    <tr>\n",
       "      <th>0</th>\n",
       "      <td>2994.0</td>\n",
       "      <td>3.867992e+06</td>\n",
       "      <td>0.0</td>\n",
       "      <td>NaN</td>\n",
       "      <td>NaN</td>\n",
       "      <td>NaN</td>\n",
       "    </tr>\n",
       "    <tr>\n",
       "      <th>1</th>\n",
       "      <td>2993.0</td>\n",
       "      <td>3.725395e+06</td>\n",
       "      <td>1.0</td>\n",
       "      <td>142597.097010</td>\n",
       "      <td>114.696898</td>\n",
       "      <td>2.728001e-26</td>\n",
       "    </tr>\n",
       "    <tr>\n",
       "      <th>2</th>\n",
       "      <td>2992.0</td>\n",
       "      <td>3.719809e+06</td>\n",
       "      <td>1.0</td>\n",
       "      <td>5586.660322</td>\n",
       "      <td>4.493588</td>\n",
       "      <td>3.410431e-02</td>\n",
       "    </tr>\n",
       "  </tbody>\n",
       "</table>\n",
       "</div>"
      ],
      "text/plain": [
       "   df_resid           ssr  df_diff        ss_diff           F        Pr(>F)\n",
       "0    2994.0  3.867992e+06      0.0            NaN         NaN           NaN\n",
       "1    2993.0  3.725395e+06      1.0  142597.097010  114.696898  2.728001e-26\n",
       "2    2992.0  3.719809e+06      1.0    5586.660322    4.493588  3.410431e-02"
      ]
     },
     "execution_count": 11,
     "metadata": {},
     "output_type": "execute_result"
    }
   ],
   "source": [
    "fit6=smf.ols(formula='wage ~ education+age',data=wage).fit()\n",
    "fit7=smf.ols(formula='wage ~ education+x2',data=wage).fit()\n",
    "fit8=smf.ols(formula='wage ~ education+x3',data=wage).fit()\n",
    "sm.stats.anova_lm(fit6,fit7,fit8, typ=1)"
   ]
  },
  {
   "cell_type": "code",
   "execution_count": 17,
   "metadata": {},
   "outputs": [
    {
     "name": "stdout",
     "output_type": "stream",
     "text": [
      "X4:\n",
      " [[1.000000e+00 1.800000e+01 3.240000e+02 5.832000e+03 1.049760e+05]\n",
      " [1.000000e+00 2.400000e+01 5.760000e+02 1.382400e+04 3.317760e+05]\n",
      " [1.000000e+00 4.500000e+01 2.025000e+03 9.112500e+04 4.100625e+06]\n",
      " [1.000000e+00 4.300000e+01 1.849000e+03 7.950700e+04 3.418801e+06]\n",
      " [1.000000e+00 5.000000e+01 2.500000e+03 1.250000e+05 6.250000e+06]]\n",
      "y:\n",
      " [0 0 0 0 0]\n"
     ]
    }
   ],
   "source": [
    "y = (wage['wage'] > 250).map({False:0, True:1}).values\n",
    "print('X4:\\n', x4[:5])\n",
    "print('y:\\n', y[:5])"
   ]
  },
  {
   "cell_type": "code",
   "execution_count": 18,
   "metadata": {},
   "outputs": [],
   "source": [
    "X=x4\n",
    "glm= sm.GLM(y, X, family=sm.families.Binomial(sm.families.links.logit))\n",
    "fit9 = glm.fit()"
   ]
  },
  {
   "cell_type": "code",
   "execution_count": 19,
   "metadata": {},
   "outputs": [],
   "source": [
    "age_grid = np.arange(wage['age'].min(), wage['age'].max()).reshape(-1,1)"
   ]
  },
  {
   "cell_type": "code",
   "execution_count": 20,
   "metadata": {},
   "outputs": [],
   "source": [
    "x_test = PolynomialFeatures(4).fit_transform(age_grid)\n",
    "pred = fit9.predict(x_test)"
   ]
  },
  {
   "cell_type": "code",
   "execution_count": 21,
   "metadata": {},
   "outputs": [
    {
     "name": "stdout",
     "output_type": "stream",
     "text": [
      "[9.82634937e-09 7.57779324e-08 4.74667193e-07 2.44918909e-06\n",
      " 1.05518393e-05 3.84579175e-05 1.20077637e-04 3.25091487e-04\n",
      " 7.72040417e-04 1.62616907e-03 3.07023498e-03 5.24879363e-03\n",
      " 8.20485976e-03 1.18387799e-02 1.59120176e-02 2.00965853e-02\n",
      " 2.40491763e-02 2.74812237e-02 3.02037371e-02 3.21404191e-02\n",
      " 3.33148289e-02 3.38229293e-02 3.38019929e-02 3.34034068e-02\n",
      " 3.27729620e-02 3.20391409e-02 3.13081209e-02 3.06635145e-02\n",
      " 3.01688926e-02 2.98715121e-02 2.98061403e-02 2.99982685e-02\n",
      " 3.04662977e-02 3.12224403e-02 3.22721602e-02 3.36119979e-02\n",
      " 3.52256716e-02 3.70784490e-02 3.91100371e-02 4.12266947e-02\n",
      " 4.32939606e-02 4.51322916e-02 4.65188129e-02 4.71989768e-02\n",
      " 4.69116195e-02 4.54290486e-02 4.26097529e-02 3.84549803e-02\n",
      " 3.31528522e-02 2.70881563e-02 2.07982242e-02 1.48709870e-02\n",
      " 9.80931728e-03 5.91196222e-03 3.22355296e-03 1.57417531e-03\n",
      " 6.81294721e-04 2.58479564e-04 8.49845408e-05 2.39248738e-05\n",
      " 5.69503524e-06 1.13135918e-06]\n"
     ]
    }
   ],
   "source": [
    "print(pred)"
   ]
  },
  {
   "cell_type": "code",
   "execution_count": 22,
   "metadata": {},
   "outputs": [
    {
     "data": {
      "image/png": "[encoded data removed]",
      "text/plain": [
       "<Figure size 288x216 with 1 Axes>"
      ]
     },
     "metadata": {},
     "output_type": "display_data"
    }
   ],
   "source": [
    "fig, (ax2) = plt.subplots(1, figsize=(4,3))\n",
    "fig.suptitle('Degree-4 Polynomial', fontsize=10)\n",
    "ax2.plot(age_grid, pred, color='b')\n",
    "\n",
    "ax2.scatter(wage['age'], y/5, s=30, c='grey', marker='|', alpha=0.7)\n",
    "\n",
    "ax2.set_ylim(-0.01,0.21)\n",
    "ax2.set_xlabel('age')\n",
    "ax2.set_ylabel('Pr(wage>250|age)');"
   ]
  },
  {
   "cell_type": "markdown",
   "metadata": {},
   "source": [
    "# Step Function"
   ]
  },
  {
   "cell_type": "code",
   "execution_count": 23,
   "metadata": {},
   "outputs": [
    {
     "data": {
      "text/plain": [
       "(17.938, 33.5]     750\n",
       "(33.5, 49.0]      1399\n",
       "(49.0, 64.5]       779\n",
       "(64.5, 80.0]        72\n",
       "Name: age, dtype: int64"
      ]
     },
     "execution_count": 23,
     "metadata": {},
     "output_type": "execute_result"
    }
   ],
   "source": [
    "df_cut, bins = pd.cut(wage['age'], 4, retbins=True, right=True)\n",
    "df_cut.value_counts(sort=False)"
   ]
  },
  {
   "cell_type": "code",
   "execution_count": 24,
   "metadata": {},
   "outputs": [
    {
     "data": {
      "text/html": [
       "<div>\n",
       "<style scoped>\n",
       "    .dataframe tbody tr th:only-of-type {\n",
       "        vertical-align: middle;\n",
       "    }\n",
       "\n",
       "    .dataframe tbody tr th {\n",
       "        vertical-align: top;\n",
       "    }\n",
       "\n",
       "    .dataframe thead th {\n",
       "        text-align: right;\n",
       "    }\n",
       "</style>\n",
       "<table border=\"1\" class=\"dataframe\">\n",
       "  <thead>\n",
       "    <tr style=\"text-align: right;\">\n",
       "      <th></th>\n",
       "      <th>age</th>\n",
       "      <th>age_cuts</th>\n",
       "      <th>wage</th>\n",
       "    </tr>\n",
       "  </thead>\n",
       "  <tbody>\n",
       "    <tr>\n",
       "      <th>0</th>\n",
       "      <td>18</td>\n",
       "      <td>(17.938, 33.5]</td>\n",
       "      <td>75.043154</td>\n",
       "    </tr>\n",
       "    <tr>\n",
       "      <th>1</th>\n",
       "      <td>24</td>\n",
       "      <td>(17.938, 33.5]</td>\n",
       "      <td>70.476020</td>\n",
       "    </tr>\n",
       "    <tr>\n",
       "      <th>2</th>\n",
       "      <td>45</td>\n",
       "      <td>(33.5, 49.0]</td>\n",
       "      <td>130.982177</td>\n",
       "    </tr>\n",
       "    <tr>\n",
       "      <th>3</th>\n",
       "      <td>43</td>\n",
       "      <td>(33.5, 49.0]</td>\n",
       "      <td>154.685293</td>\n",
       "    </tr>\n",
       "    <tr>\n",
       "      <th>4</th>\n",
       "      <td>50</td>\n",
       "      <td>(49.0, 64.5]</td>\n",
       "      <td>75.043154</td>\n",
       "    </tr>\n",
       "  </tbody>\n",
       "</table>\n",
       "</div>"
      ],
      "text/plain": [
       "   age        age_cuts        wage\n",
       "0   18  (17.938, 33.5]   75.043154\n",
       "1   24  (17.938, 33.5]   70.476020\n",
       "2   45    (33.5, 49.0]  130.982177\n",
       "3   43    (33.5, 49.0]  154.685293\n",
       "4   50    (49.0, 64.5]   75.043154"
      ]
     },
     "execution_count": 24,
     "metadata": {},
     "output_type": "execute_result"
    }
   ],
   "source": [
    "df_steps = pd.concat([wage['age'], df_cut, wage['wage']], keys=['age','age_cuts','wage'], axis=1)\n",
    "df_steps.head()"
   ]
  },
  {
   "cell_type": "code",
   "execution_count": 25,
   "metadata": {},
   "outputs": [],
   "source": [
    "fit9=smf.ols(formula='wage ~ age_cuts',data=df_steps).fit()"
   ]
  },
  {
   "cell_type": "code",
   "execution_count": 26,
   "metadata": {},
   "outputs": [
    {
     "data": {
      "text/html": [
       "<table class=\"simpletable\">\n",
       "<tr>\n",
       "                          <td></td>                            <th>coef</th>     <th>std err</th>      <th>t</th>      <th>P>|t|</th>  <th>[0.025</th>    <th>0.975]</th>  \n",
       "</tr>\n",
       "<tr>\n",
       "  <th>Intercept</th>                                        <td>   94.1584</td> <td>    1.476</td> <td>   63.790</td> <td> 0.000</td> <td>   91.264</td> <td>   97.053</td>\n",
       "</tr>\n",
       "<tr>\n",
       "  <th>age_cuts[T.Interval(33.5, 49.0, closed='right')]</th> <td>   24.0535</td> <td>    1.829</td> <td>   13.148</td> <td> 0.000</td> <td>   20.466</td> <td>   27.641</td>\n",
       "</tr>\n",
       "<tr>\n",
       "  <th>age_cuts[T.Interval(49.0, 64.5, closed='right')]</th> <td>   23.6646</td> <td>    2.068</td> <td>   11.443</td> <td> 0.000</td> <td>   19.610</td> <td>   27.719</td>\n",
       "</tr>\n",
       "<tr>\n",
       "  <th>age_cuts[T.Interval(64.5, 80.0, closed='right')]</th> <td>    7.6406</td> <td>    4.987</td> <td>    1.532</td> <td> 0.126</td> <td>   -2.139</td> <td>   17.420</td>\n",
       "</tr>\n",
       "</table>"
      ],
      "text/plain": [
       "<class 'statsmodels.iolib.table.SimpleTable'>"
      ]
     },
     "execution_count": 26,
     "metadata": {},
     "output_type": "execute_result"
    }
   ],
   "source": [
    "fit9.summary().tables[1]"
   ]
  },
  {
   "cell_type": "markdown",
   "metadata": {},
   "source": [
    "# Splines"
   ]
  },
  {
   "cell_type": "code",
   "execution_count": 28,
   "metadata": {},
   "outputs": [
    {
     "data": {
      "text/plain": [
       "Intercept                                                                    60.493714\n",
       "bs(wage['age'], knots=(25, 40, 60), degree=3, include_intercept=False)[0]     3.980500\n",
       "bs(wage['age'], knots=(25, 40, 60), degree=3, include_intercept=False)[1]    44.630980\n",
       "bs(wage['age'], knots=(25, 40, 60), degree=3, include_intercept=False)[2]    62.838788\n",
       "bs(wage['age'], knots=(25, 40, 60), degree=3, include_intercept=False)[3]    55.990830\n",
       "bs(wage['age'], knots=(25, 40, 60), degree=3, include_intercept=False)[4]    50.688098\n",
       "bs(wage['age'], knots=(25, 40, 60), degree=3, include_intercept=False)[5]    16.606142\n",
       "dtype: float64"
      ]
     },
     "execution_count": 28,
     "metadata": {},
     "output_type": "execute_result"
    }
   ],
   "source": [
    "transformed_x = dmatrix(\"bs(wage['age'], knots=(25,40,60), degree=3, include_intercept=False)\",\n",
    "                        {\"wage['age']\": wage['age']}, return_type='dataframe')\n",
    "fit4 = sm.GLM(wage['wage'], transformed_x).fit()\n",
    "pred4 = fit4.predict(dmatrix(\"bs(age_grid, knots=(25,40,60), degree=3, include_intercept=False)\",\n",
    "                             {\"age_grid\": age_grid}, return_type='dataframe'))\n",
    "fit4.params"
   ]
  },
  {
   "cell_type": "code",
   "execution_count": 29,
   "metadata": {},
   "outputs": [
    {
     "data": {
      "text/plain": [
       "Intercept                                                      56.313841\n",
       "bs(wage['age'], df=6, degree=3, include_intercept=False)[0]    27.824002\n",
       "bs(wage['age'], df=6, degree=3, include_intercept=False)[1]    54.062546\n",
       "bs(wage['age'], df=6, degree=3, include_intercept=False)[2]    65.828391\n",
       "bs(wage['age'], df=6, degree=3, include_intercept=False)[3]    55.812734\n",
       "bs(wage['age'], df=6, degree=3, include_intercept=False)[4]    72.131473\n",
       "bs(wage['age'], df=6, degree=3, include_intercept=False)[5]    14.750876\n",
       "dtype: float64"
      ]
     },
     "execution_count": 29,
     "metadata": {},
     "output_type": "execute_result"
    }
   ],
   "source": [
    "transformed_x2 = dmatrix(\"bs(wage['age'], df=6, degree=3, include_intercept=False)\",\n",
    "                        {\"wage['age']\": wage['age']}, return_type='dataframe')\n",
    "fit5 = sm.GLM(wage['wage'], transformed_x2).fit()\n",
    "pred5 = fit5.predict(dmatrix(\"bs(age_grid, df=6, degree=3, include_intercept=False)\",\n",
    "                             {\"age_grid\": age_grid}, return_type='dataframe'))\n",
    "fit5.params"
   ]
  },
  {
   "cell_type": "code",
   "execution_count": 30,
   "metadata": {},
   "outputs": [
    {
     "data": {
      "text/plain": [
       "Intercept                   79.642095\n",
       "cr(wage['age'], df=4)[0]   -14.667784\n",
       "cr(wage['age'], df=4)[1]    36.811142\n",
       "cr(wage['age'], df=4)[2]    35.934874\n",
       "cr(wage['age'], df=4)[3]    21.563863\n",
       "dtype: float64"
      ]
     },
     "execution_count": 30,
     "metadata": {},
     "output_type": "execute_result"
    }
   ],
   "source": [
    "transformed_x3 = dmatrix(\"cr(wage['age'], df=4)\", {\"wage['age']\": wage['age']}, return_type='dataframe')\n",
    "fit6 = sm.GLM(wage['wage'], transformed_x3).fit()\n",
    "pred6 = fit6.predict(dmatrix(\"cr(age_grid, df=4)\", {\"age_grid\": age_grid}, return_type='dataframe'))\n",
    "fit6.params"
   ]
  },
  {
   "cell_type": "code",
   "execution_count": 31,
   "metadata": {},
   "outputs": [],
   "source": [
    "transformed_x4 = dmatrix(\"bs(wage['age'], df=16, degree=3, include_intercept=False)\",\n",
    "                        {\"wage['age']\": wage['age']}, return_type='dataframe')\n",
    "fit7= sm.GLM(wage['wage'], transformed_x4).fit()\n",
    "pred7 = fit7.predict(dmatrix(\"bs(age_grid, df=16, degree=3, include_intercept=False)\",\n",
    "                             {\"age_grid\": age_grid}, return_type='dataframe'))\n",
    "\n",
    "\n",
    "transformed_x5 = dmatrix(\"bs(wage['age'], df=6.8, degree=3, include_intercept=False)\",\n",
    "                        {\"wage['age']\": wage['age']}, return_type='dataframe')\n",
    "fit8= sm.GLM(wage['wage'], transformed_x5).fit()\n",
    "pred8 = fit8.predict(dmatrix(\"bs(age_grid, df=6.8, degree=3, include_intercept=False)\",\n",
    "                             {\"age_grid\": age_grid}, return_type='dataframe'))\n"
   ]
  },
  {
   "cell_type": "code",
   "execution_count": 32,
   "metadata": {},
   "outputs": [
    {
     "data": {
      "text/plain": [
       "Text(0,0.5,'wage')"
      ]
     },
     "execution_count": 32,
     "metadata": {},
     "output_type": "execute_result"
    },
    {
     "data": {
      "image/png": "[encoded data removed]",
      "text/plain": [
       "<Figure size 432x288 with 1 Axes>"
      ]
     },
     "metadata": {},
     "output_type": "display_data"
    }
   ],
   "source": [
    "plt.scatter(wage['age'], wage['wage'], facecolor='None', edgecolor='k', alpha=0.3)\n",
    "plt.plot(age_grid, pred7, color='r', label='df=16')\n",
    "plt.plot(age_grid, pred8, color='b', label='df=6.8')\n",
    "plt.legend(bbox_to_anchor=(1.5, 1.0))\n",
    "plt.xlim(15,85)\n",
    "plt.ylim(0,350)\n",
    "plt.xlabel('age')\n",
    "plt.ylabel('wage')"
   ]
  },
  {
   "cell_type": "markdown",
   "metadata": {},
   "source": [
    "# PYGAM 파일 다운 사이트 \n",
    "\n",
    "https://pypi.org/project/pygam/#files\n"
   ]
  },
  {
   "cell_type": "code",
   "execution_count": 4,
   "metadata": {},
   "outputs": [
    {
     "ename": "ModuleNotFoundError",
     "evalue": "No module named 'pygam'",
     "output_type": "error",
     "traceback": [
      "\u001b[1;31m---------------------------------------------------------------------------\u001b[0m",
      "\u001b[1;31mModuleNotFoundError\u001b[0m                       Traceback (most recent call last)",
      "\u001b[1;32m<ipython-input-4-abc07d018aad>\u001b[0m in \u001b[0;36m<module>\u001b[1;34m()\u001b[0m\n\u001b[1;32m----> 1\u001b[1;33m \u001b[1;32mfrom\u001b[0m \u001b[0mpygam\u001b[0m \u001b[1;32mimport\u001b[0m \u001b[0mLinearGAM\u001b[0m \u001b[1;33m,\u001b[0m \u001b[0ms\u001b[0m\u001b[1;33m,\u001b[0m \u001b[0mf\u001b[0m\u001b[1;33m\u001b[0m\u001b[0m\n\u001b[0m",
      "\u001b[1;31mModuleNotFoundError\u001b[0m: No module named 'pygam'"
     ]
    }
   ],
   "source": [
    "from pygam import LinearGAM , s, f"
   ]
  }
 ],
 "metadata": {
  "kernelspec": {
   "display_name": "Python 3",
   "language": "python",
   "name": "python3"
  },
  "language_info": {
   "codemirror_mode": {
    "name": "ipython",
    "version": 3
   },
   "file_extension": ".py",
   "mimetype": "text/x-python",
   "name": "python",
   "nbconvert_exporter": "python",
   "pygments_lexer": "ipython3",
   "version": "3.6.5"
  }
 },
 "nbformat": 4,
 "nbformat_minor": 2
}
