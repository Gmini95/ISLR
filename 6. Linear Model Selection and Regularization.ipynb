{
 "cells": [
  {
   "cell_type": "code",
   "execution_count": 1,
   "metadata": {},
   "outputs": [],
   "source": [
    "from itertools import combinations\n",
    "\n",
    "from rpy2.robjects.packages import importr\n",
    "from rpy2.robjects.packages import data as rdata\n",
    "from rpy2.robjects import pandas2ri\n",
    "import rpy2.robjects as ro\n",
    "from rpy2.robjects.conversion import localconverter\n",
    "\n",
    "import numpy as np\n",
    "import scipy as sp\n",
    "import pandas as pd\n",
    "\n",
    "import statsmodels.api as sm\n",
    "import statsmodels.formula.api as smf\n",
    "\n",
    "from sklearn.linear_model import LinearRegression\n",
    "from sklearn.linear_model import Ridge, RidgeCV, Lasso, LassoCV\n",
    "from sklearn.decomposition import PCA\n",
    "from sklearn.cross_decomposition import PLSRegression\n",
    "from sklearn.model_selection import train_test_split, LeaveOneOut, KFold, cross_val_score\n",
    "from sklearn.preprocessing import scale\n",
    "from sklearn.metrics import mean_squared_error\n",
    "\n",
    "from IPython.display import display\n",
    "import matplotlib as mpl\n",
    "import matplotlib.pyplot as plt\n",
    "import seaborn as sns\n",
    "%matplotlib inline\n",
    "mpl.style.use('ggplot')"
   ]
  },
  {
   "cell_type": "markdown",
   "metadata": {},
   "source": [
    "# 6.5 Lab 1 : Subset Selection Methods"
   ]
  },
  {
   "cell_type": "markdown",
   "metadata": {},
   "source": [
    "## 6.5.1 Best Subset Selection"
   ]
  },
  {
   "cell_type": "code",
   "execution_count": 2,
   "metadata": {},
   "outputs": [
    {
     "data": {
      "text/html": [
       "<div>\n",
       "<style scoped>\n",
       "    .dataframe tbody tr th:only-of-type {\n",
       "        vertical-align: middle;\n",
       "    }\n",
       "\n",
       "    .dataframe tbody tr th {\n",
       "        vertical-align: top;\n",
       "    }\n",
       "\n",
       "    .dataframe thead th {\n",
       "        text-align: right;\n",
       "    }\n",
       "</style>\n",
       "<table border=\"1\" class=\"dataframe\">\n",
       "  <thead>\n",
       "    <tr style=\"text-align: right;\">\n",
       "      <th></th>\n",
       "      <th>AtBat</th>\n",
       "      <th>Hits</th>\n",
       "      <th>HmRun</th>\n",
       "      <th>Runs</th>\n",
       "      <th>RBI</th>\n",
       "      <th>Walks</th>\n",
       "      <th>Years</th>\n",
       "      <th>CAtBat</th>\n",
       "      <th>CHits</th>\n",
       "      <th>CHmRun</th>\n",
       "      <th>CRuns</th>\n",
       "      <th>CRBI</th>\n",
       "      <th>CWalks</th>\n",
       "      <th>League</th>\n",
       "      <th>Division</th>\n",
       "      <th>PutOuts</th>\n",
       "      <th>Assists</th>\n",
       "      <th>Errors</th>\n",
       "      <th>Salary</th>\n",
       "      <th>NewLeague</th>\n",
       "    </tr>\n",
       "  </thead>\n",
       "  <tbody>\n",
       "    <tr>\n",
       "      <th>-Andy Allanson</th>\n",
       "      <td>293</td>\n",
       "      <td>66</td>\n",
       "      <td>1</td>\n",
       "      <td>30</td>\n",
       "      <td>29</td>\n",
       "      <td>14</td>\n",
       "      <td>1</td>\n",
       "      <td>293</td>\n",
       "      <td>66</td>\n",
       "      <td>1</td>\n",
       "      <td>30</td>\n",
       "      <td>29</td>\n",
       "      <td>14</td>\n",
       "      <td>A</td>\n",
       "      <td>E</td>\n",
       "      <td>446</td>\n",
       "      <td>33</td>\n",
       "      <td>20</td>\n",
       "      <td>NaN</td>\n",
       "      <td>A</td>\n",
       "    </tr>\n",
       "    <tr>\n",
       "      <th>-Alan Ashby</th>\n",
       "      <td>315</td>\n",
       "      <td>81</td>\n",
       "      <td>7</td>\n",
       "      <td>24</td>\n",
       "      <td>38</td>\n",
       "      <td>39</td>\n",
       "      <td>14</td>\n",
       "      <td>3449</td>\n",
       "      <td>835</td>\n",
       "      <td>69</td>\n",
       "      <td>321</td>\n",
       "      <td>414</td>\n",
       "      <td>375</td>\n",
       "      <td>N</td>\n",
       "      <td>W</td>\n",
       "      <td>632</td>\n",
       "      <td>43</td>\n",
       "      <td>10</td>\n",
       "      <td>475.0</td>\n",
       "      <td>N</td>\n",
       "    </tr>\n",
       "    <tr>\n",
       "      <th>-Alvin Davis</th>\n",
       "      <td>479</td>\n",
       "      <td>130</td>\n",
       "      <td>18</td>\n",
       "      <td>66</td>\n",
       "      <td>72</td>\n",
       "      <td>76</td>\n",
       "      <td>3</td>\n",
       "      <td>1624</td>\n",
       "      <td>457</td>\n",
       "      <td>63</td>\n",
       "      <td>224</td>\n",
       "      <td>266</td>\n",
       "      <td>263</td>\n",
       "      <td>A</td>\n",
       "      <td>W</td>\n",
       "      <td>880</td>\n",
       "      <td>82</td>\n",
       "      <td>14</td>\n",
       "      <td>480.0</td>\n",
       "      <td>A</td>\n",
       "    </tr>\n",
       "    <tr>\n",
       "      <th>-Andre Dawson</th>\n",
       "      <td>496</td>\n",
       "      <td>141</td>\n",
       "      <td>20</td>\n",
       "      <td>65</td>\n",
       "      <td>78</td>\n",
       "      <td>37</td>\n",
       "      <td>11</td>\n",
       "      <td>5628</td>\n",
       "      <td>1575</td>\n",
       "      <td>225</td>\n",
       "      <td>828</td>\n",
       "      <td>838</td>\n",
       "      <td>354</td>\n",
       "      <td>N</td>\n",
       "      <td>E</td>\n",
       "      <td>200</td>\n",
       "      <td>11</td>\n",
       "      <td>3</td>\n",
       "      <td>500.0</td>\n",
       "      <td>N</td>\n",
       "    </tr>\n",
       "    <tr>\n",
       "      <th>-Andres Galarraga</th>\n",
       "      <td>321</td>\n",
       "      <td>87</td>\n",
       "      <td>10</td>\n",
       "      <td>39</td>\n",
       "      <td>42</td>\n",
       "      <td>30</td>\n",
       "      <td>2</td>\n",
       "      <td>396</td>\n",
       "      <td>101</td>\n",
       "      <td>12</td>\n",
       "      <td>48</td>\n",
       "      <td>46</td>\n",
       "      <td>33</td>\n",
       "      <td>N</td>\n",
       "      <td>E</td>\n",
       "      <td>805</td>\n",
       "      <td>40</td>\n",
       "      <td>4</td>\n",
       "      <td>91.5</td>\n",
       "      <td>N</td>\n",
       "    </tr>\n",
       "  </tbody>\n",
       "</table>\n",
       "</div>"
      ],
      "text/plain": [
       "                   AtBat  Hits  HmRun  Runs  RBI  Walks  Years  CAtBat  CHits  \\\n",
       "-Andy Allanson       293    66      1    30   29     14      1     293     66   \n",
       "-Alan Ashby          315    81      7    24   38     39     14    3449    835   \n",
       "-Alvin Davis         479   130     18    66   72     76      3    1624    457   \n",
       "-Andre Dawson        496   141     20    65   78     37     11    5628   1575   \n",
       "-Andres Galarraga    321    87     10    39   42     30      2     396    101   \n",
       "\n",
       "                   CHmRun  CRuns  CRBI  CWalks League Division  PutOuts  \\\n",
       "-Andy Allanson          1     30    29      14      A        E      446   \n",
       "-Alan Ashby            69    321   414     375      N        W      632   \n",
       "-Alvin Davis           63    224   266     263      A        W      880   \n",
       "-Andre Dawson         225    828   838     354      N        E      200   \n",
       "-Andres Galarraga      12     48    46      33      N        E      805   \n",
       "\n",
       "                   Assists  Errors  Salary NewLeague  \n",
       "-Andy Allanson          33      20     NaN         A  \n",
       "-Alan Ashby             43      10   475.0         N  \n",
       "-Alvin Davis            82      14   480.0         A  \n",
       "-Andre Dawson           11       3   500.0         N  \n",
       "-Andres Galarraga       40       4    91.5         N  "
      ]
     },
     "metadata": {},
     "output_type": "display_data"
    }
   ],
   "source": [
    "islr = importr('ISLR')\n",
    "hitters_rdf = rdata(islr).fetch('Hitters')['Hitters']\n",
    "with localconverter(ro.default_converter + pandas2ri.converter):\n",
    "  hitters = ro.conversion.rpy2py(hitters_rdf)\n",
    "display(hitters.head(5))"
   ]
  },
  {
   "cell_type": "code",
   "execution_count": 3,
   "metadata": {},
   "outputs": [
    {
     "name": "stdout",
     "output_type": "stream",
     "text": [
      "<class 'pandas.core.frame.DataFrame'>\n",
      "Index: 322 entries, -Andy Allanson to -Willie Wilson\n",
      "Data columns (total 20 columns):\n",
      "AtBat        322 non-null int32\n",
      "Hits         322 non-null int32\n",
      "HmRun        322 non-null int32\n",
      "Runs         322 non-null int32\n",
      "RBI          322 non-null int32\n",
      "Walks        322 non-null int32\n",
      "Years        322 non-null int32\n",
      "CAtBat       322 non-null int32\n",
      "CHits        322 non-null int32\n",
      "CHmRun       322 non-null int32\n",
      "CRuns        322 non-null int32\n",
      "CRBI         322 non-null int32\n",
      "CWalks       322 non-null int32\n",
      "League       322 non-null category\n",
      "Division     322 non-null category\n",
      "PutOuts      322 non-null int32\n",
      "Assists      322 non-null int32\n",
      "Errors       322 non-null int32\n",
      "Salary       263 non-null float64\n",
      "NewLeague    322 non-null category\n",
      "dtypes: category(3), float64(1), int32(16)\n",
      "memory usage: 26.4+ KB\n",
      "None\n"
     ]
    }
   ],
   "source": [
    "print(hitters.info())"
   ]
  },
  {
   "cell_type": "code",
   "execution_count": 4,
   "metadata": {},
   "outputs": [
    {
     "name": "stdout",
     "output_type": "stream",
     "text": [
      "59\n",
      "(263, 20)\n",
      "0\n"
     ]
    }
   ],
   "source": [
    "print(hitters.Salary.isnull().sum())\n",
    "hitters.dropna(axis=0, inplace=True)\n",
    "print(hitters.shape)\n",
    "print(hitters.Salary.isnull().sum())"
   ]
  },
  {
   "cell_type": "code",
   "execution_count": 5,
   "metadata": {},
   "outputs": [],
   "source": [
    "def score_rss(data, feature_set, endog_name):\n",
    "    reg = smf.ols(endog_name + ' ~ ' + '+'.join(feature_set), data).fit()\n",
    "    rss = reg.mse_resid * reg.df_resid\n",
    "    return reg, (-1) * rss\n",
    "\n",
    "def select_k_best(data, k, endog_name, score_function):\n",
    "    features = data.columns.drop(endog_name)\n",
    "\n",
    "    models = []\n",
    "    scores = []\n",
    "    for feature_subset in combinations(features, k):\n",
    "        model, score = score_function(data, feature_subset, endog_name)\n",
    "        models.append(model)\n",
    "        scores.append(score)\n",
    "\n",
    "    return models[scores.index(max(scores))]"
   ]
  },
  {
   "cell_type": "code",
   "execution_count": 6,
   "metadata": {},
   "outputs": [
    {
     "name": "stdout",
     "output_type": "stream",
     "text": [
      "\n",
      "Search the best k features for k = 1 to 8, based on RSS.\n",
      "Taking long time...\n",
      "\n",
      "Best 1 features: ['CRBI']\n",
      "Best 2 features: ['Hits', 'CRBI']\n",
      "Best 3 features: ['Hits', 'CRBI', 'PutOuts']\n",
      "Best 4 features: ['Division[T.W]', 'Hits', 'CRBI', 'PutOuts']\n",
      "Best 5 features: ['Division[T.W]', 'AtBat', 'Hits', 'CRBI', 'PutOuts']\n",
      "Best 6 features: ['Division[T.W]', 'AtBat', 'Hits', 'Walks', 'CRBI', 'PutOuts']\n",
      "Best 7 features: ['Division[T.W]', 'Hits', 'Walks', 'CAtBat', 'CHits', 'CHmRun', 'PutOuts']\n",
      "Best 8 features: ['Division[T.W]', 'AtBat', 'Hits', 'Walks', 'CHmRun', 'CRuns', 'CWalks', 'PutOuts']\n"
     ]
    }
   ],
   "source": [
    "response = 'Salary'\n",
    "features = hitters.columns.drop([response])\n",
    "\n",
    "print(\"\\nSearch the best k features for k = 1 to 8, based on RSS.\\nTaking long time...\\n\")\n",
    "best_models = []\n",
    "for k in range(1, 8+1):\n",
    "    best_model = select_k_best(hitters, k, response, score_rss)\n",
    "    best_models.append(best_model)\n",
    "    best_features = best_model.model.exog_names\n",
    "    best_features.remove('Intercept')\n",
    "    print(\"Best {} features: {}\".format(k, best_features))"
   ]
  },
  {
   "cell_type": "markdown",
   "metadata": {},
   "source": [
    "## Lab 6.5.2 Forward and Backward Stepwise Selection"
   ]
  },
  {
   "cell_type": "code",
   "execution_count": 7,
   "metadata": {},
   "outputs": [],
   "source": [
    "def forward_select(data, endog_name, score_function):\n",
    "    features = data.columns.drop(endog_name)\n",
    "    p = len(features)\n",
    "\n",
    "    selected_features = []\n",
    "    for j in range(1, p+1):\n",
    "        feature_candidates = [xj for xj in features if xj not in selected_features]\n",
    "        models = []\n",
    "        scores = []\n",
    "        for xj in feature_candidates:\n",
    "            feature_subset = selected_features + [xj]\n",
    "            model, score = score_function(data, feature_subset, endog_name)\n",
    "            models.append(model)\n",
    "            scores.append(score)\n",
    "\n",
    "        best_feature = feature_candidates[scores.index(max(scores))]\n",
    "        selected_features += [best_feature]\n",
    "        print(\" Best {} features: {}\".format(j, selected_features))"
   ]
  },
  {
   "cell_type": "code",
   "execution_count": 8,
   "metadata": {},
   "outputs": [
    {
     "name": "stdout",
     "output_type": "stream",
     "text": [
      "\n",
      "Forward stepwise select features based on RSS:\n",
      "\n",
      " Best 1 features: ['CRBI']\n",
      " Best 2 features: ['CRBI', 'Hits']\n",
      " Best 3 features: ['CRBI', 'Hits', 'PutOuts']\n",
      " Best 4 features: ['CRBI', 'Hits', 'PutOuts', 'Division']\n",
      " Best 5 features: ['CRBI', 'Hits', 'PutOuts', 'Division', 'AtBat']\n",
      " Best 6 features: ['CRBI', 'Hits', 'PutOuts', 'Division', 'AtBat', 'Walks']\n",
      " Best 7 features: ['CRBI', 'Hits', 'PutOuts', 'Division', 'AtBat', 'Walks', 'CWalks']\n",
      " Best 8 features: ['CRBI', 'Hits', 'PutOuts', 'Division', 'AtBat', 'Walks', 'CWalks', 'CRuns']\n",
      " Best 9 features: ['CRBI', 'Hits', 'PutOuts', 'Division', 'AtBat', 'Walks', 'CWalks', 'CRuns', 'CAtBat']\n",
      " Best 10 features: ['CRBI', 'Hits', 'PutOuts', 'Division', 'AtBat', 'Walks', 'CWalks', 'CRuns', 'CAtBat', 'Assists']\n",
      " Best 11 features: ['CRBI', 'Hits', 'PutOuts', 'Division', 'AtBat', 'Walks', 'CWalks', 'CRuns', 'CAtBat', 'Assists', 'League']\n",
      " Best 12 features: ['CRBI', 'Hits', 'PutOuts', 'Division', 'AtBat', 'Walks', 'CWalks', 'CRuns', 'CAtBat', 'Assists', 'League', 'Runs']\n",
      " Best 13 features: ['CRBI', 'Hits', 'PutOuts', 'Division', 'AtBat', 'Walks', 'CWalks', 'CRuns', 'CAtBat', 'Assists', 'League', 'Runs', 'Errors']\n",
      " Best 14 features: ['CRBI', 'Hits', 'PutOuts', 'Division', 'AtBat', 'Walks', 'CWalks', 'CRuns', 'CAtBat', 'Assists', 'League', 'Runs', 'Errors', 'HmRun']\n",
      " Best 15 features: ['CRBI', 'Hits', 'PutOuts', 'Division', 'AtBat', 'Walks', 'CWalks', 'CRuns', 'CAtBat', 'Assists', 'League', 'Runs', 'Errors', 'HmRun', 'CHits']\n",
      " Best 16 features: ['CRBI', 'Hits', 'PutOuts', 'Division', 'AtBat', 'Walks', 'CWalks', 'CRuns', 'CAtBat', 'Assists', 'League', 'Runs', 'Errors', 'HmRun', 'CHits', 'RBI']\n",
      " Best 17 features: ['CRBI', 'Hits', 'PutOuts', 'Division', 'AtBat', 'Walks', 'CWalks', 'CRuns', 'CAtBat', 'Assists', 'League', 'Runs', 'Errors', 'HmRun', 'CHits', 'RBI', 'NewLeague']\n",
      " Best 18 features: ['CRBI', 'Hits', 'PutOuts', 'Division', 'AtBat', 'Walks', 'CWalks', 'CRuns', 'CAtBat', 'Assists', 'League', 'Runs', 'Errors', 'HmRun', 'CHits', 'RBI', 'NewLeague', 'Years']\n",
      " Best 19 features: ['CRBI', 'Hits', 'PutOuts', 'Division', 'AtBat', 'Walks', 'CWalks', 'CRuns', 'CAtBat', 'Assists', 'League', 'Runs', 'Errors', 'HmRun', 'CHits', 'RBI', 'NewLeague', 'Years', 'CHmRun']\n"
     ]
    }
   ],
   "source": [
    "response = 'Salary'\n",
    "features = hitters.columns.drop([response])\n",
    "\n",
    "print(\"\\nForward stepwise select features based on RSS:\\n\")\n",
    "forward_select(hitters, response, score_rss)"
   ]
  },
  {
   "cell_type": "code",
   "execution_count": 9,
   "metadata": {},
   "outputs": [],
   "source": [
    "def backward_select(data, endog_name, score_function):\n",
    "    features = list(data.columns.drop(endog_name))\n",
    "    p = len(features)\n",
    "\n",
    "    selected_features = features.copy()\n",
    "    for j in range(p, 0, -1):\n",
    "        print(\"Best {} features: {}\".format(j, selected_features))\n",
    "        if j==1: break\n",
    "        feature_candidates = list(combinations(selected_features, j-1))\n",
    "        models = []\n",
    "        scores = []\n",
    "\n",
    "        for feature_subset in feature_candidates:\n",
    "            model, score = score_function(data, feature_subset, endog_name)\n",
    "            models.append(model)\n",
    "            scores.append(score)\n",
    "\n",
    "        selected_features = list(feature_candidates[scores.index(max(scores))])"
   ]
  },
  {
   "cell_type": "code",
   "execution_count": 10,
   "metadata": {},
   "outputs": [
    {
     "name": "stdout",
     "output_type": "stream",
     "text": [
      "\n",
      "Backward stepwise select features based on RSS:\n",
      "\n",
      "Best 19 features: ['AtBat', 'Hits', 'HmRun', 'Runs', 'RBI', 'Walks', 'Years', 'CAtBat', 'CHits', 'CHmRun', 'CRuns', 'CRBI', 'CWalks', 'League', 'Division', 'PutOuts', 'Assists', 'Errors', 'NewLeague']\n",
      "Best 18 features: ['AtBat', 'Hits', 'HmRun', 'Runs', 'RBI', 'Walks', 'Years', 'CAtBat', 'CHits', 'CRuns', 'CRBI', 'CWalks', 'League', 'Division', 'PutOuts', 'Assists', 'Errors', 'NewLeague']\n",
      "Best 17 features: ['AtBat', 'Hits', 'HmRun', 'Runs', 'RBI', 'Walks', 'CAtBat', 'CHits', 'CRuns', 'CRBI', 'CWalks', 'League', 'Division', 'PutOuts', 'Assists', 'Errors', 'NewLeague']\n",
      "Best 16 features: ['AtBat', 'Hits', 'HmRun', 'Runs', 'RBI', 'Walks', 'CAtBat', 'CHits', 'CRuns', 'CRBI', 'CWalks', 'League', 'Division', 'PutOuts', 'Assists', 'Errors']\n",
      "Best 15 features: ['AtBat', 'Hits', 'HmRun', 'Runs', 'Walks', 'CAtBat', 'CHits', 'CRuns', 'CRBI', 'CWalks', 'League', 'Division', 'PutOuts', 'Assists', 'Errors']\n",
      "Best 14 features: ['AtBat', 'Hits', 'HmRun', 'Runs', 'Walks', 'CAtBat', 'CRuns', 'CRBI', 'CWalks', 'League', 'Division', 'PutOuts', 'Assists', 'Errors']\n",
      "Best 13 features: ['AtBat', 'Hits', 'Runs', 'Walks', 'CAtBat', 'CRuns', 'CRBI', 'CWalks', 'League', 'Division', 'PutOuts', 'Assists', 'Errors']\n",
      "Best 12 features: ['AtBat', 'Hits', 'Runs', 'Walks', 'CAtBat', 'CRuns', 'CRBI', 'CWalks', 'League', 'Division', 'PutOuts', 'Assists']\n",
      "Best 11 features: ['AtBat', 'Hits', 'Walks', 'CAtBat', 'CRuns', 'CRBI', 'CWalks', 'League', 'Division', 'PutOuts', 'Assists']\n",
      "Best 10 features: ['AtBat', 'Hits', 'Walks', 'CAtBat', 'CRuns', 'CRBI', 'CWalks', 'Division', 'PutOuts', 'Assists']\n",
      "Best 9 features: ['AtBat', 'Hits', 'Walks', 'CAtBat', 'CRuns', 'CRBI', 'CWalks', 'Division', 'PutOuts']\n",
      "Best 8 features: ['AtBat', 'Hits', 'Walks', 'CRuns', 'CRBI', 'CWalks', 'Division', 'PutOuts']\n",
      "Best 7 features: ['AtBat', 'Hits', 'Walks', 'CRuns', 'CWalks', 'Division', 'PutOuts']\n",
      "Best 6 features: ['AtBat', 'Hits', 'Walks', 'CRuns', 'Division', 'PutOuts']\n",
      "Best 5 features: ['AtBat', 'Hits', 'Walks', 'CRuns', 'PutOuts']\n",
      "Best 4 features: ['AtBat', 'Hits', 'CRuns', 'PutOuts']\n",
      "Best 3 features: ['Hits', 'CRuns', 'PutOuts']\n",
      "Best 2 features: ['Hits', 'CRuns']\n",
      "Best 1 features: ['CRuns']\n"
     ]
    }
   ],
   "source": [
    "response = 'Salary'\n",
    "features = hitters.columns.drop([response])\n",
    "\n",
    "print(\"\\nBackward stepwise select features based on RSS:\\n\")\n",
    "backward_select(hitters, response, score_rss)"
   ]
  },
  {
   "cell_type": "markdown",
   "metadata": {},
   "source": [
    "## Lab 6.5.3 Choosing Among Models Using the Validation Set Approach and Cross-Validation"
   ]
  },
  {
   "cell_type": "code",
   "execution_count": 11,
   "metadata": {},
   "outputs": [],
   "source": [
    "def score_rss_valset(data_train, data_test, feature_set, endog_name):\n",
    "    reg = smf.ols(endog_name + ' ~ ' + '+'.join(feature_set), data_train).fit()\n",
    "    y_pred = reg.predict(data_test[feature_set])\n",
    "    y_test = data_test[endog_name].values\n",
    "    rss = ((y_pred - y_test) ** 2).sum()\n",
    "    return reg, (-1) * rss\n",
    "\n",
    "def forward_select_valset(data_train, data_test, endog_name, score_function):\n",
    "    features = data_train.columns.drop(endog_name)\n",
    "    p = len(features)\n",
    "    high_scores = []\n",
    "    best_features = []\n",
    "\n",
    "    selected_features = []\n",
    "    for j in range(1, p+1):\n",
    "        feature_candidates = [xj for xj in features if xj not in selected_features]\n",
    "        models = []\n",
    "        scores = []\n",
    "        for xj in feature_candidates:\n",
    "            feature_subset = selected_features + [xj]\n",
    "            model, score = score_function(data_train, data_test, feature_subset, endog_name)\n",
    "            models.append(model)\n",
    "            scores.append(score)\n",
    "\n",
    "        highest_score = max(scores)\n",
    "        high_scores.append(highest_score)\n",
    "        best_feature = feature_candidates[scores.index(highest_score)]\n",
    "        selected_features += [best_feature]\n",
    "        best_features.append(selected_features)\n",
    "\n",
    "    scores_df = pd.DataFrame(high_scores, index=range(1,p+1), columns=[''])\n",
    "    scores_df.index.name = '# of x_j'\n",
    "\n",
    "    best_score = max(high_scores)\n",
    "    best_j = high_scores.index(best_score) + 1\n",
    "    return scores_df, best_j, best_score, best_features"
   ]
  },
  {
   "cell_type": "code",
   "execution_count": 12,
   "metadata": {},
   "outputs": [
    {
     "name": "stdout",
     "output_type": "stream",
     "text": [
      "Train set size =  142\n",
      "Test set size =  121\n"
     ]
    }
   ],
   "source": [
    "np.random.seed(seed=51)\n",
    "train_mask = np.random.choice([True, False], size = hitters.shape[0], replace = True)\n",
    "test_mask = np.invert(train_mask)\n",
    "print(\"Train set size = \", train_mask.sum())\n",
    "print(\"Test set size = \", test_mask.sum())"
   ]
  },
  {
   "cell_type": "code",
   "execution_count": 13,
   "metadata": {},
   "outputs": [
    {
     "name": "stdout",
     "output_type": "stream",
     "text": [
      "\n",
      "Forward stepwise select features on training set, based on RSS. \n",
      "\n",
      "Mean RSS over numbers of features:\n"
     ]
    },
    {
     "data": {
      "text/html": [
       "<div>\n",
       "<style scoped>\n",
       "    .dataframe tbody tr th:only-of-type {\n",
       "        vertical-align: middle;\n",
       "    }\n",
       "\n",
       "    .dataframe tbody tr th {\n",
       "        vertical-align: top;\n",
       "    }\n",
       "\n",
       "    .dataframe thead th {\n",
       "        text-align: right;\n",
       "    }\n",
       "</style>\n",
       "<table border=\"1\" class=\"dataframe\">\n",
       "  <thead>\n",
       "    <tr style=\"text-align: right;\">\n",
       "      <th></th>\n",
       "      <th></th>\n",
       "    </tr>\n",
       "    <tr>\n",
       "      <th># of x_j</th>\n",
       "      <th></th>\n",
       "    </tr>\n",
       "  </thead>\n",
       "  <tbody>\n",
       "    <tr>\n",
       "      <th>1</th>\n",
       "      <td>2.076650e+07</td>\n",
       "    </tr>\n",
       "    <tr>\n",
       "      <th>2</th>\n",
       "      <td>1.714363e+07</td>\n",
       "    </tr>\n",
       "    <tr>\n",
       "      <th>3</th>\n",
       "      <td>1.617621e+07</td>\n",
       "    </tr>\n",
       "    <tr>\n",
       "      <th>4</th>\n",
       "      <td>1.588872e+07</td>\n",
       "    </tr>\n",
       "    <tr>\n",
       "      <th>5</th>\n",
       "      <td>1.562742e+07</td>\n",
       "    </tr>\n",
       "    <tr>\n",
       "      <th>6</th>\n",
       "      <td>1.508433e+07</td>\n",
       "    </tr>\n",
       "    <tr>\n",
       "      <th>7</th>\n",
       "      <td>1.478177e+07</td>\n",
       "    </tr>\n",
       "    <tr>\n",
       "      <th>8</th>\n",
       "      <td>1.467281e+07</td>\n",
       "    </tr>\n",
       "    <tr>\n",
       "      <th>9</th>\n",
       "      <td>1.452479e+07</td>\n",
       "    </tr>\n",
       "    <tr>\n",
       "      <th>10</th>\n",
       "      <td>1.449917e+07</td>\n",
       "    </tr>\n",
       "    <tr>\n",
       "      <th>11</th>\n",
       "      <td>1.465030e+07</td>\n",
       "    </tr>\n",
       "    <tr>\n",
       "      <th>12</th>\n",
       "      <td>1.493468e+07</td>\n",
       "    </tr>\n",
       "    <tr>\n",
       "      <th>13</th>\n",
       "      <td>1.508188e+07</td>\n",
       "    </tr>\n",
       "    <tr>\n",
       "      <th>14</th>\n",
       "      <td>1.557057e+07</td>\n",
       "    </tr>\n",
       "    <tr>\n",
       "      <th>15</th>\n",
       "      <td>1.620118e+07</td>\n",
       "    </tr>\n",
       "    <tr>\n",
       "      <th>16</th>\n",
       "      <td>1.624116e+07</td>\n",
       "    </tr>\n",
       "    <tr>\n",
       "      <th>17</th>\n",
       "      <td>1.698257e+07</td>\n",
       "    </tr>\n",
       "    <tr>\n",
       "      <th>18</th>\n",
       "      <td>1.730889e+07</td>\n",
       "    </tr>\n",
       "    <tr>\n",
       "      <th>19</th>\n",
       "      <td>1.763893e+07</td>\n",
       "    </tr>\n",
       "  </tbody>\n",
       "</table>\n",
       "</div>"
      ],
      "text/plain": [
       "                      \n",
       "# of x_j              \n",
       "1         2.076650e+07\n",
       "2         1.714363e+07\n",
       "3         1.617621e+07\n",
       "4         1.588872e+07\n",
       "5         1.562742e+07\n",
       "6         1.508433e+07\n",
       "7         1.478177e+07\n",
       "8         1.467281e+07\n",
       "9         1.452479e+07\n",
       "10        1.449917e+07\n",
       "11        1.465030e+07\n",
       "12        1.493468e+07\n",
       "13        1.508188e+07\n",
       "14        1.557057e+07\n",
       "15        1.620118e+07\n",
       "16        1.624116e+07\n",
       "17        1.698257e+07\n",
       "18        1.730889e+07\n",
       "19        1.763893e+07"
      ]
     },
     "metadata": {},
     "output_type": "display_data"
    },
    {
     "name": "stdout",
     "output_type": "stream",
     "text": [
      "\n",
      "The best model is the one having 10 features:\n",
      "['CRBI', 'Hits', 'Division', 'Years', 'AtBat', 'Walks', 'PutOuts', 'CWalks', 'CRuns', 'RBI', 'Errors', 'Assists', 'HmRun', 'Runs', 'NewLeague', 'League', 'CHmRun', 'CAtBat', 'CHits']\n"
     ]
    }
   ],
   "source": [
    "response = 'Salary'\n",
    "features = hitters.columns.drop([response])\n",
    "\n",
    "print(\"\\nForward stepwise select features on training set, based on RSS. \\n\")\n",
    "scores_valset, best_j_valset, best_score, best_features_valset = forward_select_valset(hitters[train_mask], hitters[test_mask], response, score_rss_valset)\n",
    "print(\"Mean RSS over numbers of features:\")\n",
    "mean_rss_valset = scores_valset * (-1)\n",
    "display(mean_rss_valset)\n",
    "print(\"\\nThe best model is the one having {} features:\\n{}\".format(best_j_valset, best_features_valset[best_j_valset-1]))"
   ]
  },
  {
   "cell_type": "code",
   "execution_count": 14,
   "metadata": {},
   "outputs": [
    {
     "name": "stdout",
     "output_type": "stream",
     "text": [
      "\n",
      "Forward stepwise select features on full data set, based on RSS. \n",
      "\n",
      "The best 10 features are:\n",
      "['CRBI', 'Hits', 'PutOuts', 'Division', 'AtBat', 'Walks', 'CWalks', 'CRuns', 'CAtBat', 'Assists', 'League', 'Runs', 'Errors', 'HmRun', 'CHits', 'RBI', 'NewLeague', 'Years', 'CHmRun']\n"
     ]
    }
   ],
   "source": [
    "print(\"\\nForward stepwise select features on full data set, based on RSS. \\n\")\n",
    "_, _, _, best_features_full = forward_select_valset(hitters, hitters, response, score_rss_valset)\n",
    "print(\"The best {} features are:\\n{}\".format(best_j_valset, best_features_full[best_j_valset-1]))"
   ]
  },
  {
   "cell_type": "code",
   "execution_count": 15,
   "metadata": {},
   "outputs": [
    {
     "name": "stderr",
     "output_type": "stream",
     "text": [
      "/usr/local/lib/python3.7/site-packages/sklearn/model_selection/_split.py:297: FutureWarning: Setting a random_state has no effect since shuffle is False. This will raise an error in 0.24. You should leave random_state to its default (None), or set shuffle=True.\n",
      "  FutureWarning\n"
     ]
    }
   ],
   "source": [
    "kf = KFold(10, random_state=55)\n",
    "scores_cv_list = []\n",
    "for train_index, test_index in kf.split(hitters):\n",
    "    scores_df, _, _, _ = forward_select_valset(hitters.iloc[train_index], hitters.iloc[test_mask], response, score_rss_valset)\n",
    "    scores_cv_list.append(scores_df)\n",
    "scores_cv = pd.concat(scores_cv_list, axis=1)\n",
    "scores_cv.columns = range(1, 11)\n",
    "scores_cv.columns.name = 'K-Fold'"
   ]
  },
  {
   "cell_type": "code",
   "execution_count": 16,
   "metadata": {},
   "outputs": [
    {
     "name": "stdout",
     "output_type": "stream",
     "text": [
      "# of x_j\n",
      "1     1.988162e+07\n",
      "2     1.469190e+07\n",
      "3     1.247908e+07\n",
      "4     1.182492e+07\n",
      "5     1.148818e+07\n",
      "6     1.094343e+07\n",
      "7     1.082744e+07\n",
      "8     1.081981e+07\n",
      "9     1.079096e+07\n",
      "10    1.076345e+07\n",
      "11    1.058229e+07\n",
      "12    1.048883e+07\n",
      "13    1.043509e+07\n",
      "14    1.035223e+07\n",
      "15    1.029475e+07\n",
      "16    1.021250e+07\n",
      "17    1.019581e+07\n",
      "18    1.021123e+07\n",
      "19    1.029496e+07\n",
      "dtype: float64\n"
     ]
    }
   ],
   "source": [
    "mean_rss_cv = scores_cv.mean(axis=1) * (-1)\n",
    "print(mean_rss_cv)"
   ]
  },
  {
   "cell_type": "code",
   "execution_count": 17,
   "metadata": {},
   "outputs": [
    {
     "data": {
      "image/png": "[encoded data removed]",
      "text/plain": [
       "<Figure size 720x432 with 2 Axes>"
      ]
     },
     "metadata": {},
     "output_type": "display_data"
    }
   ],
   "source": [
    "fig, ax = plt.subplots(1, 2, figsize=(10, 6))\n",
    "ax1 = plt.subplot(121)\n",
    "plt.plot(range(1, len(features)+1), mean_rss_valset)\n",
    "plt.title('Validation Set Approach')\n",
    "plt.xlabel('Number of Predictors')\n",
    "plt.ylabel('Lowest RSS')\n",
    "ax2 = plt.subplot(122)\n",
    "plt.plot(range(1, len(features)+1), mean_rss_cv)\n",
    "plt.title('Cross-Validation Approach')\n",
    "plt.xlabel('Number of Predictors')\n",
    "plt.ylabel('Mean of Lowest RSS')\n",
    "plt.show()"
   ]
  },
  {
   "cell_type": "markdown",
   "metadata": {},
   "source": [
    "# Lab 2: Ridge Regression and the Lasso"
   ]
  },
  {
   "cell_type": "markdown",
   "metadata": {},
   "source": [
    "## Lab 6.6.1 Ridge Regression"
   ]
  },
  {
   "cell_type": "code",
   "execution_count": 18,
   "metadata": {},
   "outputs": [
    {
     "name": "stdout",
     "output_type": "stream",
     "text": [
      "<class 'pandas.core.frame.DataFrame'>\n",
      "Index: 263 entries, -Alan Ashby to -Willie Wilson\n",
      "Data columns (total 6 columns):\n",
      "League_A       263 non-null uint8\n",
      "League_N       263 non-null uint8\n",
      "Division_E     263 non-null uint8\n",
      "Division_W     263 non-null uint8\n",
      "NewLeague_A    263 non-null uint8\n",
      "NewLeague_N    263 non-null uint8\n",
      "dtypes: uint8(6)\n",
      "memory usage: 13.6+ KB\n"
     ]
    }
   ],
   "source": [
    "qual_vars = ['League', 'Division', 'NewLeague']\n",
    "hitters_dummies = pd.get_dummies(hitters[qual_vars])\n",
    "hitters_dummies.info()"
   ]
  },
  {
   "cell_type": "code",
   "execution_count": 19,
   "metadata": {},
   "outputs": [
    {
     "name": "stdout",
     "output_type": "stream",
     "text": [
      "<class 'pandas.core.frame.DataFrame'>\n",
      "Index: 263 entries, -Alan Ashby to -Willie Wilson\n",
      "Data columns (total 19 columns):\n",
      "AtBat          263 non-null int32\n",
      "Hits           263 non-null int32\n",
      "HmRun          263 non-null int32\n",
      "Runs           263 non-null int32\n",
      "RBI            263 non-null int32\n",
      "Walks          263 non-null int32\n",
      "Years          263 non-null int32\n",
      "CAtBat         263 non-null int32\n",
      "CHits          263 non-null int32\n",
      "CHmRun         263 non-null int32\n",
      "CRuns          263 non-null int32\n",
      "CRBI           263 non-null int32\n",
      "CWalks         263 non-null int32\n",
      "PutOuts        263 non-null int32\n",
      "Assists        263 non-null int32\n",
      "Errors         263 non-null int32\n",
      "League_N       263 non-null uint8\n",
      "Division_W     263 non-null uint8\n",
      "NewLeague_N    263 non-null uint8\n",
      "dtypes: int32(16), uint8(3)\n",
      "memory usage: 29.3+ KB\n"
     ]
    }
   ],
   "source": [
    "dummy_vars = ['League_N', 'Division_W', 'NewLeague_N']\n",
    "response = 'Salary'\n",
    "y = hitters[response]\n",
    "X = pd.concat([hitters.drop(qual_vars + [response], axis=1), hitters_dummies[dummy_vars]], axis=1)\n",
    "features = hitters.columns.drop([response])\n",
    "X.info()"
   ]
  },
  {
   "cell_type": "code",
   "execution_count": 20,
   "metadata": {},
   "outputs": [
    {
     "data": {
      "image/png": "[encoded data removed]",
      "text/plain": [
       "<Figure size 576x432 with 1 Axes>"
      ]
     },
     "metadata": {},
     "output_type": "display_data"
    }
   ],
   "source": [
    "alphas = 10**np.linspace(10,-2,100)\n",
    "ridge = Ridge()\n",
    "coefs = []\n",
    "for alpha in alphas:\n",
    "    ridge.set_params(alpha=alpha*0.5)\n",
    "    ridge.fit(scale(X), y)\n",
    "    coefs.append(ridge.coef_)\n",
    "fig, ax = plt.subplots(figsize=(8,6))\n",
    "plt.plot(alphas, coefs)\n",
    "ax.set_xscale('log')\n",
    "plt.xlim(1e10, 1e-2)\n",
    "plt.xlabel('Regularization Parameter')\n",
    "plt.ylabel('Coefficients')\n",
    "plt.title('Ridge regression coefficients vs. regularization parameter.')\n",
    "plt.show()"
   ]
  },
  {
   "cell_type": "code",
   "execution_count": 21,
   "metadata": {},
   "outputs": [
    {
     "name": "stdout",
     "output_type": "stream",
     "text": [
      "\n",
      "Ridge regression coefficients:\n",
      " AtBat         0.098658\n",
      "Hits          0.446094\n",
      "HmRun         1.412107\n",
      "Runs          0.660773\n",
      "RBI           0.843403\n",
      "Walks         1.008473\n",
      "Years         2.779882\n",
      "CAtBat        0.008244\n",
      "CHits         0.034149\n",
      "CHmRun        0.268634\n",
      "CRuns         0.070407\n",
      "CRBI          0.070060\n",
      "CWalks        0.082795\n",
      "League        0.104747\n",
      "Division     -0.003739\n",
      "PutOuts       0.268363\n",
      "Assists       4.241051\n",
      "Errors      -30.768885\n",
      "NewLeague     4.123474\n",
      "dtype: float64\n",
      "\n",
      "MSE =  106216.52238005561\n"
     ]
    }
   ],
   "source": [
    "X_train, X_test, y_train, y_test = train_test_split(X, y, test_size=0.5, random_state=1)\n",
    "ridge_a4 = Ridge(alpha=4, normalize=True)\n",
    "ridge_a4.fit(X_train, y_train)\n",
    "y_pred_a4 = ridge_a4.predict(X_test)\n",
    "print('\\nRidge regression coefficients:\\n', pd.Series(ridge_a4.coef_, index=features))\n",
    "print('\\nMSE = ', mean_squared_error(y_test, y_pred_a4))"
   ]
  },
  {
   "cell_type": "code",
   "execution_count": 22,
   "metadata": {},
   "outputs": [
    {
     "name": "stdout",
     "output_type": "stream",
     "text": [
      "\n",
      "Ridge regression coefficients:\n",
      " AtBat        1.317464e-10\n",
      "Hits         4.647486e-10\n",
      "HmRun        2.079865e-09\n",
      "Runs         7.726175e-10\n",
      "RBI          9.390640e-10\n",
      "Walks        9.769219e-10\n",
      "Years        3.961442e-09\n",
      "CAtBat       1.060533e-11\n",
      "CHits        3.993605e-11\n",
      "CHmRun       2.959428e-10\n",
      "CRuns        8.245247e-11\n",
      "CRBI         7.795451e-11\n",
      "CWalks       9.894387e-11\n",
      "League       7.268991e-11\n",
      "Division    -2.615885e-12\n",
      "PutOuts      2.084514e-10\n",
      "Assists     -2.501281e-09\n",
      "Errors      -1.549951e-08\n",
      "NewLeague   -2.023196e-09\n",
      "dtype: float64\n",
      "\n",
      "MSE =  172862.23580379886\n"
     ]
    }
   ],
   "source": [
    "ridge_a1e10 = Ridge(alpha=10**10, normalize=True)\n",
    "ridge_a1e10.fit(X_train, y_train)\n",
    "y_pred_a1e10 = ridge_a1e10.predict(X_test)\n",
    "print('\\nRidge regression coefficients:\\n', pd.Series(ridge_a1e10.coef_, index=features))\n",
    "print('\\nMSE = ', mean_squared_error(y_test, y_pred_a1e10))"
   ]
  },
  {
   "cell_type": "code",
   "execution_count": 23,
   "metadata": {},
   "outputs": [
    {
     "name": "stdout",
     "output_type": "stream",
     "text": [
      "The best ridge regularization Alpha =  0.5748784976988678\n",
      "MSE =  99825.6489629273\n"
     ]
    }
   ],
   "source": [
    "ridgecv = RidgeCV(alphas=alphas*0.5, scoring='neg_mean_squared_error', normalize=True)\n",
    "ridgecv.fit(X_train, y_train)\n",
    "print(\"The best ridge regularization Alpha = \", ridgecv.alpha_)\n",
    "ridge_cv = Ridge(alpha=ridgecv.alpha_, normalize=True)\n",
    "ridge_cv.fit(X_train, y_train)\n",
    "mse = mean_squared_error(y_test, ridge_cv.predict(X_test))\n",
    "print(\"MSE = \", mse)"
   ]
  },
  {
   "cell_type": "code",
   "execution_count": 24,
   "metadata": {},
   "outputs": [
    {
     "name": "stdout",
     "output_type": "stream",
     "text": [
      "AtBat         0.055838\n",
      "Hits          0.934879\n",
      "HmRun         0.369048\n",
      "Runs          1.092480\n",
      "RBI           0.878259\n",
      "Walks         1.717770\n",
      "Years         0.783515\n",
      "CAtBat        0.011318\n",
      "CHits         0.061101\n",
      "CHmRun        0.428333\n",
      "CRuns         0.121418\n",
      "CRBI          0.129351\n",
      "CWalks        0.041990\n",
      "League        0.179957\n",
      "Division      0.035737\n",
      "PutOuts      -1.597699\n",
      "Assists      24.774519\n",
      "Errors      -85.948661\n",
      "NewLeague     8.336918\n",
      "dtype: float64\n"
     ]
    }
   ],
   "source": [
    "ridge_cv.fit(X, y)\n",
    "print(pd.Series(ridge_cv.coef_, index=features))"
   ]
  },
  {
   "cell_type": "markdown",
   "metadata": {},
   "source": [
    "## Lab 6.6.2 The Lasso"
   ]
  },
  {
   "cell_type": "code",
   "execution_count": 25,
   "metadata": {},
   "outputs": [
    {
     "data": {
      "image/png": "[encoded data removed]",
      "text/plain": [
       "<Figure size 576x432 with 1 Axes>"
      ]
     },
     "metadata": {},
     "output_type": "display_data"
    }
   ],
   "source": [
    "lasso = Lasso(max_iter=10000, normalize=True)\n",
    "coefs = []\n",
    "for alpha in alphas:\n",
    "    lasso.set_params(alpha=alpha)\n",
    "    lasso.fit(scale(X_train), y_train)\n",
    "    coefs.append(lasso.coef_)\n",
    "\n",
    "fig, ax = plt.subplots(figsize=(8, 6))\n",
    "plt.plot(alphas, coefs)\n",
    "ax.set_xscale('log')\n",
    "ax.set_xlim(ax.get_xlim()[::-1])\n",
    "plt.xlabel('Regularization Parameter')\n",
    "plt.ylabel('Regression Coefficients')\n",
    "plt.title('Lasso regression coefficients vs. regularization parameter.')\n",
    "plt.show()"
   ]
  },
  {
   "cell_type": "code",
   "execution_count": 26,
   "metadata": {},
   "outputs": [
    {
     "name": "stdout",
     "output_type": "stream",
     "text": [
      "The best Lasso regularization Alpha =  0.5748784976988678\n",
      "MSE =  104960.65853895503\n"
     ]
    },
    {
     "data": {
      "text/plain": [
       "AtBat         0.000000\n",
       "Hits          1.082446\n",
       "HmRun         0.000000\n",
       "Runs          0.000000\n",
       "RBI           0.000000\n",
       "Walks         2.906388\n",
       "Years         0.000000\n",
       "CAtBat        0.000000\n",
       "CHits         0.000000\n",
       "CHmRun        0.219367\n",
       "CRuns         0.000000\n",
       "CRBI          0.513975\n",
       "CWalks        0.000000\n",
       "League        0.368401\n",
       "Division     -0.000000\n",
       "PutOuts      -0.000000\n",
       "Assists       0.000000\n",
       "Errors      -89.064338\n",
       "NewLeague     0.000000\n",
       "dtype: float64"
      ]
     },
     "execution_count": 26,
     "metadata": {},
     "output_type": "execute_result"
    }
   ],
   "source": [
    "lassocv = LassoCV(alphas=None, cv=10, max_iter=100000, normalize=True)\n",
    "lassocv.fit(X_train, y_train)\n",
    "print(\"The best Lasso regularization Alpha = \", ridgecv.alpha_)\n",
    "lasso_cv = Lasso(max_iter=10000, normalize=True, alpha=lassocv.alpha_)\n",
    "lasso_cv.fit(X_train, y_train)\n",
    "mse = mean_squared_error(y_test, lasso_cv.predict(X_test))\n",
    "print(\"MSE = \", mse)\n",
    "pd.Series(lasso_cv.coef_, index=features)"
   ]
  },
  {
   "cell_type": "markdown",
   "metadata": {},
   "source": [
    "# Lab 3: PCR and PLS Regression"
   ]
  },
  {
   "cell_type": "markdown",
   "metadata": {},
   "source": [
    "## Lab 6.7.1 Principal Components Regression"
   ]
  },
  {
   "cell_type": "code",
   "execution_count": 27,
   "metadata": {},
   "outputs": [
    {
     "name": "stdout",
     "output_type": "stream",
     "text": [
      "The sahpe of loading matrix: (19, 19)\n",
      "\n",
      "Head of loading matrix:\n"
     ]
    },
    {
     "data": {
      "text/html": [
       "<div>\n",
       "<style scoped>\n",
       "    .dataframe tbody tr th:only-of-type {\n",
       "        vertical-align: middle;\n",
       "    }\n",
       "\n",
       "    .dataframe tbody tr th {\n",
       "        vertical-align: top;\n",
       "    }\n",
       "\n",
       "    .dataframe thead th {\n",
       "        text-align: right;\n",
       "    }\n",
       "</style>\n",
       "<table border=\"1\" class=\"dataframe\">\n",
       "  <thead>\n",
       "    <tr style=\"text-align: right;\">\n",
       "      <th></th>\n",
       "      <th>0</th>\n",
       "      <th>1</th>\n",
       "      <th>2</th>\n",
       "      <th>3</th>\n",
       "      <th>4</th>\n",
       "      <th>5</th>\n",
       "    </tr>\n",
       "  </thead>\n",
       "  <tbody>\n",
       "    <tr>\n",
       "      <th>0</th>\n",
       "      <td>0.198290</td>\n",
       "      <td>-0.383784</td>\n",
       "      <td>0.088626</td>\n",
       "      <td>0.031967</td>\n",
       "      <td>0.028117</td>\n",
       "      <td>-0.070646</td>\n",
       "    </tr>\n",
       "    <tr>\n",
       "      <th>1</th>\n",
       "      <td>0.195861</td>\n",
       "      <td>-0.377271</td>\n",
       "      <td>0.074032</td>\n",
       "      <td>0.017982</td>\n",
       "      <td>-0.004652</td>\n",
       "      <td>-0.082240</td>\n",
       "    </tr>\n",
       "    <tr>\n",
       "      <th>2</th>\n",
       "      <td>0.204369</td>\n",
       "      <td>-0.237136</td>\n",
       "      <td>-0.216186</td>\n",
       "      <td>-0.235831</td>\n",
       "      <td>0.077660</td>\n",
       "      <td>-0.149646</td>\n",
       "    </tr>\n",
       "    <tr>\n",
       "      <th>3</th>\n",
       "      <td>0.198337</td>\n",
       "      <td>-0.377721</td>\n",
       "      <td>-0.017166</td>\n",
       "      <td>-0.049942</td>\n",
       "      <td>-0.038536</td>\n",
       "      <td>-0.136660</td>\n",
       "    </tr>\n",
       "    <tr>\n",
       "      <th>4</th>\n",
       "      <td>0.235174</td>\n",
       "      <td>-0.314531</td>\n",
       "      <td>-0.073085</td>\n",
       "      <td>-0.138985</td>\n",
       "      <td>0.024299</td>\n",
       "      <td>-0.111675</td>\n",
       "    </tr>\n",
       "  </tbody>\n",
       "</table>\n",
       "</div>"
      ],
      "text/plain": [
       "          0         1         2         3         4         5\n",
       "0  0.198290 -0.383784  0.088626  0.031967  0.028117 -0.070646\n",
       "1  0.195861 -0.377271  0.074032  0.017982 -0.004652 -0.082240\n",
       "2  0.204369 -0.237136 -0.216186 -0.235831  0.077660 -0.149646\n",
       "3  0.198337 -0.377721 -0.017166 -0.049942 -0.038536 -0.136660\n",
       "4  0.235174 -0.314531 -0.073085 -0.138985  0.024299 -0.111675"
      ]
     },
     "metadata": {},
     "output_type": "display_data"
    }
   ],
   "source": [
    "pca = PCA()\n",
    "X_reduced = pca.fit_transform(scale(X))\n",
    "print(\"The sahpe of loading matrix:\", pca.components_.shape)\n",
    "print(\"\\nHead of loading matrix:\")\n",
    "display(pd.DataFrame(pca.components_.T).loc[:4,:5])"
   ]
  },
  {
   "cell_type": "code",
   "execution_count": 28,
   "metadata": {},
   "outputs": [
    {
     "data": {
      "image/png": "[encoded data removed]",
      "text/plain": [
       "<Figure size 576x432 with 1 Axes>"
      ]
     },
     "metadata": {},
     "output_type": "display_data"
    }
   ],
   "source": [
    "kf = KFold(n_splits=10, shuffle=True, random_state=1)\n",
    "regr = LinearRegression()\n",
    "mse = []\n",
    "for n_pc in range(0, pca.n_components_ + 1):\n",
    "    if n_pc == 0:\n",
    "        X_regr = np.ones((len(y),1))\n",
    "    else:\n",
    "        X_regr = X_reduced[:, :n_pc]\n",
    "    scores = cross_val_score(regr, X_regr, y, cv=kf, scoring='neg_mean_squared_error')\n",
    "    mse.append(scores.mean() * (-1))\n",
    "\n",
    "min_mse = min(mse)\n",
    "min_mse_idx = mse.index(min_mse)    \n",
    "    \n",
    "fig, ax = plt.subplots(figsize=(8, 6))\n",
    "plt.plot(mse)\n",
    "plt.xticks(range(20), range(20))\n",
    "min_mse_marker, = plt.plot(min_mse_idx, min_mse, 'b*', markersize=15)\n",
    "plt.xlabel('Number of Principal Components')\n",
    "plt.ylabel('MSE')\n",
    "plt.title('Principal Component Regression with 10-Fold Cross-Validation')\n",
    "plt.legend([min_mse_marker], ['Best number of principal components'])\n",
    "plt.show()"
   ]
  },
  {
   "cell_type": "code",
   "execution_count": 29,
   "metadata": {},
   "outputs": [
    {
     "name": "stdout",
     "output_type": "stream",
     "text": [
      "Explained Variance Ratio:\n"
     ]
    },
    {
     "data": {
      "text/plain": [
       "0                  38.31 %\n",
       "1     60.150000000000006 %\n",
       "2                  70.84 %\n",
       "3                  79.03 %\n",
       "4                  84.29 %\n",
       "5      88.63000000000001 %\n",
       "6                  92.26 %\n",
       "7      94.96000000000001 %\n",
       "8                  96.28 %\n",
       "9                  97.25 %\n",
       "10                 97.97 %\n",
       "11                 98.64 %\n",
       "12                 99.14 %\n",
       "13                 99.46 %\n",
       "14     99.72999999999999 %\n",
       "15                 99.88 %\n",
       "16     99.94999999999999 %\n",
       "17     99.97999999999999 %\n",
       "18                 99.99 %\n",
       "dtype: object"
      ]
     },
     "metadata": {},
     "output_type": "display_data"
    }
   ],
   "source": [
    "evr = np.cumsum(np.round(pca.explained_variance_ratio_, decimals=4)*100)\n",
    "print(\"Explained Variance Ratio:\")\n",
    "display(pd.Series([str(p) + ' %' for p in evr]))"
   ]
  },
  {
   "cell_type": "code",
   "execution_count": 30,
   "metadata": {},
   "outputs": [
    {
     "data": {
      "image/png": "[encoded data removed]",
      "text/plain": [
       "<Figure size 576x432 with 1 Axes>"
      ]
     },
     "metadata": {},
     "output_type": "display_data"
    }
   ],
   "source": [
    "X_train, X_test, y_train, y_test = train_test_split(X, y, test_size=0.5, random_state=1)\n",
    "X_train_reduced = pca.fit_transform(scale(X_train))\n",
    "\n",
    "kf = KFold(n_splits=10, shuffle=True, random_state=1)\n",
    "regr = LinearRegression()\n",
    "mse = []\n",
    "for n_pc in range(0, pca.n_components_ + 1):\n",
    "    if n_pc == 0:\n",
    "        X_regr = np.ones((len(y_train),1))\n",
    "    else:\n",
    "        X_regr = X_train_reduced[:, :n_pc]\n",
    "    scores = cross_val_score(regr, X_regr, y_train, cv=kf, scoring='neg_mean_squared_error')\n",
    "    mse.append(scores.mean() * (-1))\n",
    "\n",
    "min_mse = min(mse)\n",
    "min_mse_idx = mse.index(min_mse)    \n",
    "    \n",
    "fig, ax = plt.subplots(figsize=(8, 6))\n",
    "plt.plot(mse)\n",
    "plt.xticks(range(20), range(20))\n",
    "min_mse_marker, = plt.plot(min_mse_idx, min_mse, 'b*', markersize=15)\n",
    "plt.xlabel('Number of Principal Components')\n",
    "plt.ylabel('MSE')\n",
    "plt.title('Principal Component Regression on Training Set with 10-Fold Cross-Validation')\n",
    "plt.legend([min_mse_marker], ['Best number of principal components'])\n",
    "plt.show()"
   ]
  },
  {
   "cell_type": "code",
   "execution_count": 31,
   "metadata": {},
   "outputs": [
    {
     "name": "stdout",
     "output_type": "stream",
     "text": [
      "Test set MSE =  111994.42273636986\n"
     ]
    }
   ],
   "source": [
    "X_test_reduced = pca.transform(scale(X_test))[:,:7]\n",
    "\n",
    "regr = LinearRegression()\n",
    "regr.fit(X_train_reduced[:,:7], y_train)\n",
    "\n",
    "y_pred = regr.predict(X_test_reduced)\n",
    "print(\"Test set MSE = \", mean_squared_error(y_test, y_pred))"
   ]
  },
  {
   "cell_type": "markdown",
   "metadata": {},
   "source": []
  }
 ],
 "metadata": {
  "kernelspec": {
   "display_name": "Python 3",
   "language": "python",
   "name": "python3"
  },
  "language_info": {
   "codemirror_mode": {
    "name": "ipython",
    "version": 3
   },
   "file_extension": ".py",
   "mimetype": "text/x-python",
   "name": "python",
   "nbconvert_exporter": "python",
   "pygments_lexer": "ipython3",
   "version": "3.7.6"
  }
 },
 "nbformat": 4,
 "nbformat_minor": 4
}
