{
 "cells": [
  {
   "cell_type": "code",
   "execution_count": 51,
   "metadata": {
    "scrolled": true
   },
   "outputs": [],
   "source": [
    "import pandas as pd\n",
    "import numpy as np\n",
    "from datetime import datetime\n",
    "import matplotlib\n",
    "import matplotlib.pyplot as plt\n",
    "import seaborn as sns\n",
    "from sklearn import datasets, ensemble\n",
    "from sklearn.model_selection import StratifiedKFold\n",
    "from sklearn.model_selection import train_test_split\n",
    "import lightgbm as lgb\n",
    "\n",
    "%matplotlib inline\n",
    "#경고문구 무시\n",
    "import warnings\n",
    "warnings.filterwarnings('ignore')\n",
    "\n",
    "matplotlib.rcParams['axes.unicode_minus']=False\n",
    "matplotlib.rc('font',family='Malgun Gothic')"
   ]
  },
  {
   "cell_type": "code",
   "execution_count": 52,
   "metadata": {},
   "outputs": [],
   "source": [
    "train = pd.read_csv('train4.csv')"
   ]
  },
  {
   "cell_type": "code",
   "execution_count": 53,
   "metadata": {},
   "outputs": [],
   "source": [
    "train.rename(columns={\"방송일시\": \"datetime\", \"노출(분)\": \"ExposureTime\",\n",
    "                      \"마더코드\": \"MotherCode\", \"상품코드\": \"ItemCode\",\n",
    "                      \"상품명\": \"ItemName\", \"상품군\": \"ItemCat\",\n",
    "                      \"판매단가\": \"Price\", \"취급액\": \"SellingPrice\",\n",
    "                     '평균기온': 'mean_temp',\n",
    "                     '최고기온': 'high_temp',\n",
    "                     '최저기온': 'low_temp',\n",
    "                     '강수량(mm)': 'rain',\n",
    "                     '시간': 'time',\n",
    "                     '판매량': 'sales'}, inplace=True)"
   ]
  },
  {
   "cell_type": "code",
   "execution_count": 54,
   "metadata": {
    "scrolled": true
   },
   "outputs": [],
   "source": [
    "train=train.drop('일시',axis=1)"
   ]
  },
  {
   "cell_type": "markdown",
   "metadata": {},
   "source": [
    "## 1. 상품명 상품군과 같은 object 컬럼또한 category값으로 변경\n",
    "### (2. 마더코드와 상품코드는 int가 아니라 category 값으로 변경)"
   ]
  },
  {
   "cell_type": "code",
   "execution_count": 55,
   "metadata": {},
   "outputs": [],
   "source": [
    "for c in train.columns:\n",
    "    col_type = train[c].dtype\n",
    "    if col_type == 'object':\n",
    "        train[c] = train[c].astype('category')"
   ]
  },
  {
   "cell_type": "code",
   "execution_count": 56,
   "metadata": {},
   "outputs": [],
   "source": [
    "#train['MotherCode'] = train['MotherCode'].astype('category')\n",
    "#train['ItemCode'] = train['ItemCode'].astype('category')"
   ]
  },
  {
   "cell_type": "markdown",
   "metadata": {},
   "source": [
    "## 의류"
   ]
  },
  {
   "cell_type": "code",
   "execution_count": 167,
   "metadata": {},
   "outputs": [
    {
     "name": "stdout",
     "output_type": "stream",
     "text": [
      "train data x size:(3031, 6)\n",
      "train data y size:(3031,)\n",
      "valid data x size:(1300, 6)\n",
      "valid data y size:(1300,)\n",
      "\n"
     ]
    }
   ],
   "source": [
    "train_clothes=train[train['ItemCat']=='의류']\n",
    "\n",
    "Y_train_clothes = train_clothes['sales']\n",
    "X_train_clothes = train_clothes[[ \"ExposureTime\", \"MotherCode\", \"ItemCode\",\"ItemName\", \"ItemCat\",\"Price\"]]\n",
    "\n",
    "#train,valid 나누기\n",
    "train_x_clothes,valid_x_clothes,train_y_clothes,valid_y_clothes=train_test_split(X_train_clothes,Y_train_clothes,test_size=0.3,random_state=1234)\n",
    "print('train data x size:{}'.format(train_x_clothes.shape))\n",
    "print('train data y size:{}'.format(train_y_clothes.shape))\n",
    "print('valid data x size:{}'.format(valid_x_clothes.shape))\n",
    "print('valid data y size:{}\\n'.format(valid_y_clothes.shape))\n",
    "\n",
    "#dataset \n",
    "train_clothes_ds = lgb.Dataset(train_x_clothes, label = train_y_clothes) \n",
    "valid_clothes_ds = lgb.Dataset(valid_x_clothes, label = valid_y_clothes)"
   ]
  },
  {
   "cell_type": "markdown",
   "metadata": {},
   "source": [
    "## 주방"
   ]
  },
  {
   "cell_type": "code",
   "execution_count": 58,
   "metadata": {},
   "outputs": [
    {
     "name": "stdout",
     "output_type": "stream",
     "text": [
      "train data x size:(4596, 7)\n",
      "train data y size:(4596,)\n",
      "valid data x size:(1971, 7)\n",
      "valid data y size:(1971,)\n",
      "\n"
     ]
    }
   ],
   "source": [
    "train_kitchen=train[train['ItemCat']=='주방']\n",
    "\n",
    "Y_train_kitchen = train_kitchen['sales']\n",
    "X_train_kitchen = train_kitchen[[ \"ExposureTime\", \"MotherCode\", \"ItemCode\",\"ItemName\", \"ItemCat\",\"Price\",\"SellingPrice\"]]\n",
    "\n",
    "#train,valid 나누기\n",
    "train_x_kitchen,valid_x_kitchen,train_y_kitchen,valid_y_kitchen=train_test_split(X_train_kitchen,Y_train_kitchen,test_size=0.3,random_state=1234)\n",
    "print('train data x size:{}'.format(train_x_kitchen.shape))\n",
    "print('train data y size:{}'.format(train_y_kitchen.shape))\n",
    "print('valid data x size:{}'.format(valid_x_kitchen.shape))\n",
    "print('valid data y size:{}\\n'.format(valid_y_kitchen.shape))\n",
    "\n",
    "#dataset \n",
    "train_kitchen_ds = lgb.Dataset(train_x_kitchen, label = train_y_kitchen) \n",
    "valid_kitchen_ds = lgb.Dataset(valid_x_kitchen, label = valid_y_kitchen)"
   ]
  },
  {
   "cell_type": "markdown",
   "metadata": {},
   "source": [
    "## 가전"
   ]
  },
  {
   "cell_type": "code",
   "execution_count": 59,
   "metadata": {},
   "outputs": [
    {
     "name": "stdout",
     "output_type": "stream",
     "text": [
      "train data x size:(3614, 7)\n",
      "train data y size:(3614,)\n",
      "valid data x size:(1549, 7)\n",
      "valid data y size:(1549,)\n",
      "\n"
     ]
    }
   ],
   "source": [
    "train_electronic=train[train['ItemCat']=='가전']\n",
    "\n",
    "Y_train_electronic = train_electronic['sales']\n",
    "X_train_electronic = train_electronic[[ \"ExposureTime\", \"MotherCode\", \"ItemCode\",\"ItemName\", \"ItemCat\",\"Price\",\"SellingPrice\"]]\n",
    "\n",
    "#train,valid 나누기\n",
    "train_x_electronic,valid_x_electronic,train_y_electronic,valid_y_electronic=train_test_split(X_train_electronic,Y_train_electronic,test_size=0.3,random_state=1234)\n",
    "print('train data x size:{}'.format(train_x_electronic.shape))\n",
    "print('train data y size:{}'.format(train_y_electronic.shape))\n",
    "print('valid data x size:{}'.format(valid_x_electronic.shape))\n",
    "print('valid data y size:{}\\n'.format(valid_y_electronic.shape))\n",
    "\n",
    "#dataset \n",
    "train_electronic_ds = lgb.Dataset(train_x_electronic, label = train_y_electronic) \n",
    "valid_electronic_ds = lgb.Dataset(valid_x_electronic, label = valid_y_electronic)"
   ]
  },
  {
   "cell_type": "markdown",
   "metadata": {},
   "source": [
    "## 속옷"
   ]
  },
  {
   "cell_type": "code",
   "execution_count": 60,
   "metadata": {},
   "outputs": [
    {
     "name": "stdout",
     "output_type": "stream",
     "text": [
      "train data x size:(2737, 7)\n",
      "train data y size:(2737,)\n",
      "valid data x size:(1173, 7)\n",
      "valid data y size:(1173,)\n",
      "\n"
     ]
    }
   ],
   "source": [
    "train_underwear=train[train['ItemCat']=='속옷']\n",
    "\n",
    "Y_train_underwear = train_underwear['sales']\n",
    "X_train_underwear = train_underwear[[ \"ExposureTime\", \"MotherCode\", \"ItemCode\",\"ItemName\", \"ItemCat\",\"Price\",\"SellingPrice\"]]\n",
    "\n",
    "#train,valid 나누기\n",
    "train_x_underwear,valid_x_underwear,train_y_underwear,valid_y_underwear=train_test_split(X_train_underwear,Y_train_underwear,test_size=0.3,random_state=1234)\n",
    "print('train data x size:{}'.format(train_x_underwear.shape))\n",
    "print('train data y size:{}'.format(train_y_underwear.shape))\n",
    "print('valid data x size:{}'.format(valid_x_underwear.shape))\n",
    "print('valid data y size:{}\\n'.format(valid_y_underwear.shape))\n",
    "\n",
    "#dataset \n",
    "train_underwear_ds = lgb.Dataset(train_x_underwear, label = train_y_underwear) \n",
    "valid_underwear_ds = lgb.Dataset(valid_x_underwear, label = valid_y_underwear)"
   ]
  },
  {
   "cell_type": "markdown",
   "metadata": {},
   "source": [
    "## 농수축"
   ]
  },
  {
   "cell_type": "code",
   "execution_count": 61,
   "metadata": {},
   "outputs": [
    {
     "name": "stdout",
     "output_type": "stream",
     "text": [
      "train data x size:(2718, 7)\n",
      "train data y size:(2718,)\n",
      "valid data x size:(1166, 7)\n",
      "valid data y size:(1166,)\n",
      "\n"
     ]
    }
   ],
   "source": [
    "train_farm=train[train['ItemCat']=='농수축']\n",
    "\n",
    "Y_train_farm = train_farm['sales']\n",
    "X_train_farm = train_farm[[ \"ExposureTime\", \"MotherCode\", \"ItemCode\",\"ItemName\", \"ItemCat\",\"Price\",\"SellingPrice\"]]\n",
    "\n",
    "#train,valid 나누기\n",
    "train_x_farm,valid_x_farm,train_y_farm,valid_y_farm=train_test_split(X_train_farm,Y_train_farm,test_size=0.3,random_state=1234)\n",
    "print('train data x size:{}'.format(train_x_farm.shape))\n",
    "print('train data y size:{}'.format(train_y_farm.shape))\n",
    "print('valid data x size:{}'.format(valid_x_farm.shape))\n",
    "print('valid data y size:{}\\n'.format(valid_y_farm.shape))\n",
    "\n",
    "#dataset \n",
    "train_farm_ds = lgb.Dataset(train_x_farm, label = train_y_farm) \n",
    "valid_farm_ds = lgb.Dataset(valid_x_farm, label = valid_y_farm)"
   ]
  },
  {
   "cell_type": "markdown",
   "metadata": {},
   "source": [
    "## 잡화"
   ]
  },
  {
   "cell_type": "code",
   "execution_count": 62,
   "metadata": {},
   "outputs": [
    {
     "name": "stdout",
     "output_type": "stream",
     "text": [
      "train data x size:(2585, 7)\n",
      "train data y size:(2585,)\n",
      "valid data x size:(1109, 7)\n",
      "valid data y size:(1109,)\n",
      "\n"
     ]
    }
   ],
   "source": [
    "train_goods=train[train['ItemCat']=='잡화']\n",
    "\n",
    "Y_train_goods = train_goods['sales']\n",
    "X_train_goods = train_goods[[ \"ExposureTime\", \"MotherCode\", \"ItemCode\",\"ItemName\", \"ItemCat\",\"Price\",\"SellingPrice\"]]\n",
    "\n",
    "#train,valid 나누기\n",
    "train_x_goods,valid_x_goods,train_y_goods,valid_y_goods=train_test_split(X_train_goods,Y_train_goods,test_size=0.3,random_state=1234)\n",
    "print('train data x size:{}'.format(train_x_goods.shape))\n",
    "print('train data y size:{}'.format(train_y_goods.shape))\n",
    "print('valid data x size:{}'.format(valid_x_goods.shape))\n",
    "print('valid data y size:{}\\n'.format(valid_y_goods.shape))\n",
    "\n",
    "#dataset \n",
    "train_goods_ds = lgb.Dataset(train_x_goods, label = train_y_goods) \n",
    "valid_goods_ds = lgb.Dataset(valid_x_goods, label = valid_y_goods)"
   ]
  },
  {
   "cell_type": "markdown",
   "metadata": {},
   "source": [
    "## 생활용품"
   ]
  },
  {
   "cell_type": "code",
   "execution_count": 63,
   "metadata": {},
   "outputs": [
    {
     "name": "stdout",
     "output_type": "stream",
     "text": [
      "train data x size:(1938, 7)\n",
      "train data y size:(1938,)\n",
      "valid data x size:(831, 7)\n",
      "valid data y size:(831,)\n",
      "\n"
     ]
    }
   ],
   "source": [
    "train_dailygoods=train[train['ItemCat']=='생활용품']\n",
    "\n",
    "Y_train_dailygoods = train_dailygoods['sales']\n",
    "X_train_dailygoods = train_dailygoods[[ \"ExposureTime\", \"MotherCode\", \"ItemCode\",\"ItemName\", \"ItemCat\",\"Price\",\"SellingPrice\"]]\n",
    "\n",
    "#train,valid 나누기\n",
    "train_x_dailygoods,valid_x_dailygoods,train_y_dailygoods,valid_y_dailygoods=train_test_split(X_train_dailygoods,Y_train_dailygoods,test_size=0.3,random_state=1234)\n",
    "print('train data x size:{}'.format(train_x_dailygoods.shape))\n",
    "print('train data y size:{}'.format(train_y_dailygoods.shape))\n",
    "print('valid data x size:{}'.format(valid_x_dailygoods.shape))\n",
    "print('valid data y size:{}\\n'.format(valid_y_dailygoods.shape))\n",
    "\n",
    "#dataset \n",
    "train_dailygoods_ds = lgb.Dataset(train_x_dailygoods, label = train_y_dailygoods) \n",
    "valid_dailygoods_ds = lgb.Dataset(valid_x_dailygoods, label = valid_y_dailygoods)"
   ]
  },
  {
   "cell_type": "markdown",
   "metadata": {},
   "source": [
    "## 가구"
   ]
  },
  {
   "cell_type": "code",
   "execution_count": 64,
   "metadata": {},
   "outputs": [
    {
     "name": "stdout",
     "output_type": "stream",
     "text": [
      "train data x size:(1611, 7)\n",
      "train data y size:(1611,)\n",
      "valid data x size:(691, 7)\n",
      "valid data y size:(691,)\n",
      "\n"
     ]
    }
   ],
   "source": [
    "train_funiture=train[train['ItemCat']=='가구']\n",
    "\n",
    "Y_train_funiture = train_funiture['sales']\n",
    "X_train_funiture = train_funiture[[ \"ExposureTime\", \"MotherCode\", \"ItemCode\",\"ItemName\", \"ItemCat\",\"Price\",\"SellingPrice\"]]\n",
    "\n",
    "#train,valid 나누기\n",
    "train_x_funiture,valid_x_funiture,train_y_funiture,valid_y_funiture=train_test_split(X_train_funiture,Y_train_funiture,test_size=0.3,random_state=1234)\n",
    "print('train data x size:{}'.format(train_x_funiture.shape))\n",
    "print('train data y size:{}'.format(train_y_funiture.shape))\n",
    "print('valid data x size:{}'.format(valid_x_funiture.shape))\n",
    "print('valid data y size:{}\\n'.format(valid_y_funiture.shape))\n",
    "\n",
    "#dataset \n",
    "train_funiture_ds = lgb.Dataset(train_x_funiture, label = train_y_funiture) \n",
    "valid_funiture_ds = lgb.Dataset(valid_x_funiture, label = valid_y_funiture)"
   ]
  },
  {
   "cell_type": "markdown",
   "metadata": {},
   "source": [
    "## 이미용"
   ]
  },
  {
   "cell_type": "code",
   "execution_count": 65,
   "metadata": {},
   "outputs": [
    {
     "name": "stdout",
     "output_type": "stream",
     "text": [
      "train data x size:(4596, 7)\n",
      "train data y size:(4596,)\n",
      "valid data x size:(1971, 7)\n",
      "valid data y size:(1971,)\n",
      "\n"
     ]
    }
   ],
   "source": [
    "train_hair=train[train['ItemCat']=='주방']\n",
    "\n",
    "Y_train_hair = train_hair['sales']\n",
    "X_train_hair = train_hair[[ \"ExposureTime\", \"MotherCode\", \"ItemCode\",\"ItemName\", \"ItemCat\",\"Price\",\"SellingPrice\"]]\n",
    "\n",
    "#train,valid 나누기\n",
    "train_x_hair,valid_x_hair,train_y_hair,valid_y_hair=train_test_split(X_train_hair,Y_train_hair,test_size=0.3,random_state=1234)\n",
    "print('train data x size:{}'.format(train_x_hair.shape))\n",
    "print('train data y size:{}'.format(train_y_hair.shape))\n",
    "print('valid data x size:{}'.format(valid_x_hair.shape))\n",
    "print('valid data y size:{}\\n'.format(valid_y_hair.shape))\n",
    "\n",
    "#dataset \n",
    "train_hair_ds = lgb.Dataset(train_x_hair, label = train_y_hair) \n",
    "valid_hair_ds = lgb.Dataset(valid_x_hair, label = valid_y_hair)"
   ]
  },
  {
   "cell_type": "markdown",
   "metadata": {},
   "source": [
    "## 건강기능"
   ]
  },
  {
   "cell_type": "code",
   "execution_count": 66,
   "metadata": {},
   "outputs": [
    {
     "name": "stdout",
     "output_type": "stream",
     "text": [
      "train data x size:(4596, 7)\n",
      "train data y size:(4596,)\n",
      "valid data x size:(1971, 7)\n",
      "valid data y size:(1971,)\n",
      "\n"
     ]
    }
   ],
   "source": [
    "train_health=train[train['ItemCat']=='주방']\n",
    "\n",
    "Y_train_health = train_health['sales']\n",
    "X_train_health = train_health[[ \"ExposureTime\", \"MotherCode\", \"ItemCode\",\"ItemName\", \"ItemCat\",\"Price\",\"SellingPrice\"]]\n",
    "\n",
    "#train,valid 나누기\n",
    "train_x_health,valid_x_health,train_y_health,valid_y_health=train_test_split(X_train_health,Y_train_health,test_size=0.3,random_state=1234)\n",
    "print('train data x size:{}'.format(train_x_health.shape))\n",
    "print('train data y size:{}'.format(train_y_health.shape))\n",
    "print('valid data x size:{}'.format(valid_x_health.shape))\n",
    "print('valid data y size:{}\\n'.format(valid_y_health.shape))\n",
    "\n",
    "#dataset \n",
    "train_health_ds = lgb.Dataset(train_x_health, label = train_y_health) \n",
    "valid_health_ds = lgb.Dataset(valid_x_health, label = valid_y_health)"
   ]
  },
  {
   "cell_type": "markdown",
   "metadata": {},
   "source": [
    "## 침구"
   ]
  },
  {
   "cell_type": "code",
   "execution_count": 67,
   "metadata": {},
   "outputs": [
    {
     "name": "stdout",
     "output_type": "stream",
     "text": [
      "train data x size:(4596, 7)\n",
      "train data y size:(4596,)\n",
      "valid data x size:(1971, 7)\n",
      "valid data y size:(1971,)\n",
      "\n"
     ]
    }
   ],
   "source": [
    "train_bed=train[train['ItemCat']=='주방']\n",
    "\n",
    "Y_train_bed = train_bed['sales']\n",
    "X_train_bed = train_bed[[ \"ExposureTime\", \"MotherCode\", \"ItemCode\",\"ItemName\", \"ItemCat\",\"Price\",\"SellingPrice\"]]\n",
    "\n",
    "#train,valid 나누기\n",
    "train_x_bed,valid_x_bed,train_y_bed,valid_y_bed=train_test_split(X_train_bed,Y_train_bed,test_size=0.3,random_state=1234)\n",
    "print('train data x size:{}'.format(train_x_bed.shape))\n",
    "print('train data y size:{}'.format(train_y_bed.shape))\n",
    "print('valid data x size:{}'.format(valid_x_bed.shape))\n",
    "print('valid data y size:{}\\n'.format(valid_y_bed.shape))\n",
    "\n",
    "#dataset \n",
    "train_bed_ds = lgb.Dataset(train_x_bed, label = train_y_bed) \n",
    "valid_bed_ds = lgb.Dataset(valid_x_bed, label = valid_y_bed)"
   ]
  },
  {
   "cell_type": "markdown",
   "metadata": {},
   "source": [
    "### 모델 생성"
   ]
  },
  {
   "cell_type": "markdown",
   "metadata": {},
   "source": [
    "* early stopping을 위한 설정"
   ]
  },
  {
   "cell_type": "code",
   "execution_count": 168,
   "metadata": {},
   "outputs": [
    {
     "name": "stdout",
     "output_type": "stream",
     "text": [
      "[LightGBM] [Warning] Auto-choosing col-wise multi-threading, the overhead of testing was 0.000518 seconds.\n",
      "You can set `force_col_wise=true` to remove the overhead.\n",
      "[LightGBM] [Info] Total Bins 650\n",
      "[LightGBM] [Info] Number of data points in the train set: 3031, number of used features: 5\n",
      "[LightGBM] [Info] Start training from score 377.141788\n",
      "Training until validation scores don't improve for 100 rounds\n",
      "[100]\tvalid_0's l2: 131029\n",
      "[200]\tvalid_0's l2: 114033\n",
      "[300]\tvalid_0's l2: 108247\n",
      "[400]\tvalid_0's l2: 104843\n",
      "[500]\tvalid_0's l2: 103176\n",
      "[600]\tvalid_0's l2: 102542\n",
      "[700]\tvalid_0's l2: 101631\n",
      "[800]\tvalid_0's l2: 100845\n",
      "[900]\tvalid_0's l2: 100533\n",
      "[1000]\tvalid_0's l2: 99871.7\n",
      "Did not meet early stopping. Best iteration is:\n",
      "[1000]\tvalid_0's l2: 99871.7\n"
     ]
    }
   ],
   "source": [
    "params_clothes={'learning_rate': 0.01, \n",
    "          'max_depth': 10, \n",
    "          'boosting': 'gbdt', \n",
    "          'objective': 'regression', \n",
    "          'metric': 'mse', \n",
    "          'is_training_metric': True, \n",
    "          'num_leaves': 10, \n",
    "          'feature_fraction': 0.9, \n",
    "          'bagging_fraction': 0.7, \n",
    "          'bagging_freq': 5, \n",
    "          'seed':2020}\n",
    "\n",
    "model_clothes = lgb.train(params_clothes, train_clothes_ds, 1000, valid_clothes_ds, verbose_eval=100, early_stopping_rounds=100)"
   ]
  },
  {
   "cell_type": "code",
   "execution_count": 69,
   "metadata": {},
   "outputs": [
    {
     "name": "stdout",
     "output_type": "stream",
     "text": [
      "[LightGBM] [Warning] Auto-choosing col-wise multi-threading, the overhead of testing was 0.000463 seconds.\n",
      "You can set `force_col_wise=true` to remove the overhead.\n",
      "[LightGBM] [Info] Total Bins 807\n",
      "[LightGBM] [Info] Number of data points in the train set: 4596, number of used features: 6\n",
      "[LightGBM] [Info] Start training from score 190.678568\n",
      "Training until validation scores don't improve for 100 rounds\n",
      "[100]\tvalid_0's l2: 15297.5\n",
      "[200]\tvalid_0's l2: 5600.76\n",
      "[300]\tvalid_0's l2: 3232.05\n",
      "[400]\tvalid_0's l2: 2488.02\n",
      "[500]\tvalid_0's l2: 2214.84\n",
      "[600]\tvalid_0's l2: 2087.33\n",
      "[700]\tvalid_0's l2: 2018.63\n",
      "[800]\tvalid_0's l2: 1972.25\n",
      "[900]\tvalid_0's l2: 1940.84\n",
      "[1000]\tvalid_0's l2: 1934.55\n",
      "Did not meet early stopping. Best iteration is:\n",
      "[975]\tvalid_0's l2: 1929.61\n"
     ]
    }
   ],
   "source": [
    "params_kitchen={'learning_rate': 0.01, \n",
    "          'max_depth': 10, \n",
    "          'boosting': 'gbdt', \n",
    "          'objective': 'regression', \n",
    "          'metric': 'mse', \n",
    "          'is_training_metric': True, \n",
    "          'num_leaves': 10, \n",
    "          'feature_fraction': 0.9, \n",
    "          'bagging_fraction': 0.7, \n",
    "          'bagging_freq': 5, \n",
    "          'seed':2020}\n",
    "\n",
    "model_kitchen = lgb.train(params_kitchen, train_kitchen_ds, 1000, valid_kitchen_ds, verbose_eval=100, early_stopping_rounds=100)"
   ]
  },
  {
   "cell_type": "code",
   "execution_count": 70,
   "metadata": {},
   "outputs": [
    {
     "name": "stdout",
     "output_type": "stream",
     "text": [
      "[LightGBM] [Warning] Auto-choosing col-wise multi-threading, the overhead of testing was 0.000173 seconds.\n",
      "You can set `force_col_wise=true` to remove the overhead.\n",
      "[LightGBM] [Info] Total Bins 695\n",
      "[LightGBM] [Info] Number of data points in the train set: 3614, number of used features: 6\n",
      "[LightGBM] [Info] Start training from score 19.331006\n",
      "Training until validation scores don't improve for 100 rounds\n",
      "[100]\tvalid_0's l2: 192.959\n",
      "[200]\tvalid_0's l2: 72.3379\n",
      "[300]\tvalid_0's l2: 44.6137\n",
      "[400]\tvalid_0's l2: 35.3847\n",
      "[500]\tvalid_0's l2: 30.404\n",
      "[600]\tvalid_0's l2: 27.8036\n",
      "[700]\tvalid_0's l2: 25.9447\n",
      "[800]\tvalid_0's l2: 24.2977\n",
      "[900]\tvalid_0's l2: 23.4866\n",
      "[1000]\tvalid_0's l2: 22.5864\n",
      "Did not meet early stopping. Best iteration is:\n",
      "[1000]\tvalid_0's l2: 22.5864\n"
     ]
    }
   ],
   "source": [
    "params_electronic={'learning_rate': 0.01, \n",
    "          'max_depth': 10, \n",
    "          'boosting': 'gbdt', \n",
    "          'objective': 'regression', \n",
    "          'metric': 'mse', \n",
    "          'is_training_metric': True, \n",
    "          'num_leaves': 10, \n",
    "          'feature_fraction': 0.9, \n",
    "          'bagging_fraction': 0.7, \n",
    "          'bagging_freq': 5, \n",
    "          'seed':2020}\n",
    "\n",
    "model_electronic = lgb.train(params_electronic, train_electronic_ds, 1000, valid_electronic_ds, verbose_eval=100, early_stopping_rounds=100)"
   ]
  },
  {
   "cell_type": "code",
   "execution_count": 71,
   "metadata": {},
   "outputs": [
    {
     "name": "stdout",
     "output_type": "stream",
     "text": [
      "[LightGBM] [Warning] Auto-choosing col-wise multi-threading, the overhead of testing was 0.000165 seconds.\n",
      "You can set `force_col_wise=true` to remove the overhead.\n",
      "[LightGBM] [Info] Total Bins 749\n",
      "[LightGBM] [Info] Number of data points in the train set: 2737, number of used features: 6\n",
      "[LightGBM] [Info] Start training from score 361.862463\n",
      "Training until validation scores don't improve for 100 rounds\n",
      "[100]\tvalid_0's l2: 24712.9\n",
      "[200]\tvalid_0's l2: 7607.01\n",
      "[300]\tvalid_0's l2: 3456.13\n",
      "[400]\tvalid_0's l2: 2256.02\n",
      "[500]\tvalid_0's l2: 1884.96\n",
      "[600]\tvalid_0's l2: 1654.14\n",
      "[700]\tvalid_0's l2: 1556.88\n",
      "[800]\tvalid_0's l2: 1461.07\n",
      "[900]\tvalid_0's l2: 1411.19\n",
      "[1000]\tvalid_0's l2: 1372.04\n",
      "Did not meet early stopping. Best iteration is:\n",
      "[990]\tvalid_0's l2: 1371.5\n"
     ]
    }
   ],
   "source": [
    "params_underwear={'learning_rate': 0.01, \n",
    "          'max_depth': 10, \n",
    "          'boosting': 'gbdt', \n",
    "          'objective': 'regression', \n",
    "          'metric': 'mse', \n",
    "          'is_training_metric': True, \n",
    "          'num_leaves': 10, \n",
    "          'feature_fraction': 0.9, \n",
    "          'bagging_fraction': 0.7, \n",
    "          'bagging_freq': 5, \n",
    "          'seed':2020}\n",
    "\n",
    "model_underwear = lgb.train(params_underwear, train_underwear_ds, 1000, valid_underwear_ds, verbose_eval=100, early_stopping_rounds=100)"
   ]
  },
  {
   "cell_type": "code",
   "execution_count": 72,
   "metadata": {},
   "outputs": [
    {
     "name": "stdout",
     "output_type": "stream",
     "text": [
      "[LightGBM] [Warning] Auto-choosing col-wise multi-threading, the overhead of testing was 0.000337 seconds.\n",
      "You can set `force_col_wise=true` to remove the overhead.\n",
      "[LightGBM] [Info] Total Bins 628\n",
      "[LightGBM] [Info] Number of data points in the train set: 2718, number of used features: 6\n",
      "[LightGBM] [Info] Start training from score 973.056921\n",
      "Training until validation scores don't improve for 100 rounds\n",
      "[100]\tvalid_0's l2: 75181.8\n",
      "[200]\tvalid_0's l2: 27563.7\n",
      "[300]\tvalid_0's l2: 14792.6\n",
      "[400]\tvalid_0's l2: 11149.6\n",
      "[500]\tvalid_0's l2: 10233.2\n",
      "[600]\tvalid_0's l2: 9504.91\n",
      "[700]\tvalid_0's l2: 9242.05\n",
      "Early stopping, best iteration is:\n",
      "[695]\tvalid_0's l2: 9213.89\n"
     ]
    }
   ],
   "source": [
    "params_farm={'learning_rate': 0.01, \n",
    "          'max_depth': 10, \n",
    "          'boosting': 'gbdt', \n",
    "          'objective': 'regression', \n",
    "          'metric': 'mse', \n",
    "          'is_training_metric': True, \n",
    "          'num_leaves': 10, \n",
    "          'feature_fraction': 0.9, \n",
    "          'bagging_fraction': 0.7, \n",
    "          'bagging_freq': 5, \n",
    "          'seed':2020}\n",
    "\n",
    "model_farm = lgb.train(params_farm, train_farm_ds, 1000, valid_farm_ds, verbose_eval=100, early_stopping_rounds=100)"
   ]
  },
  {
   "cell_type": "code",
   "execution_count": 73,
   "metadata": {},
   "outputs": [
    {
     "name": "stdout",
     "output_type": "stream",
     "text": [
      "[LightGBM] [Warning] Auto-choosing col-wise multi-threading, the overhead of testing was 0.001427 seconds.\n",
      "You can set `force_col_wise=true` to remove the overhead.\n",
      "[LightGBM] [Info] Total Bins 906\n",
      "[LightGBM] [Info] Number of data points in the train set: 2585, number of used features: 6\n",
      "[LightGBM] [Info] Start training from score 246.262908\n",
      "Training until validation scores don't improve for 100 rounds\n",
      "[100]\tvalid_0's l2: 27570.9\n",
      "[200]\tvalid_0's l2: 7516.18\n",
      "[300]\tvalid_0's l2: 3025.18\n",
      "[400]\tvalid_0's l2: 1868.95\n",
      "[500]\tvalid_0's l2: 1488.05\n",
      "[600]\tvalid_0's l2: 1302.79\n",
      "[700]\tvalid_0's l2: 1176.24\n",
      "[800]\tvalid_0's l2: 1098.67\n",
      "[900]\tvalid_0's l2: 1045.28\n",
      "[1000]\tvalid_0's l2: 990.032\n",
      "Did not meet early stopping. Best iteration is:\n",
      "[1000]\tvalid_0's l2: 990.032\n"
     ]
    }
   ],
   "source": [
    "params_goods={'learning_rate': 0.01, \n",
    "          'max_depth': 10, \n",
    "          'boosting': 'gbdt', \n",
    "          'objective': 'regression', \n",
    "          'metric': 'mse', \n",
    "          'is_training_metric': True, \n",
    "          'num_leaves': 10, \n",
    "          'feature_fraction': 0.9, \n",
    "          'bagging_fraction': 0.7, \n",
    "          'bagging_freq': 5, \n",
    "          'seed':2020}\n",
    "\n",
    "model_goods = lgb.train(params_goods, train_goods_ds, 1000, valid_goods_ds, verbose_eval=100, early_stopping_rounds=100)"
   ]
  },
  {
   "cell_type": "code",
   "execution_count": 74,
   "metadata": {},
   "outputs": [
    {
     "name": "stdout",
     "output_type": "stream",
     "text": [
      "[LightGBM] [Warning] Auto-choosing col-wise multi-threading, the overhead of testing was 0.000224 seconds.\n",
      "You can set `force_col_wise=true` to remove the overhead.\n",
      "[LightGBM] [Info] Total Bins 696\n",
      "[LightGBM] [Info] Number of data points in the train set: 1938, number of used features: 6\n",
      "[LightGBM] [Info] Start training from score 182.043029\n",
      "Training until validation scores don't improve for 100 rounds\n",
      "[100]\tvalid_0's l2: 15403.1\n",
      "[200]\tvalid_0's l2: 5898.15\n",
      "[300]\tvalid_0's l2: 3438.76\n",
      "[400]\tvalid_0's l2: 2520.3\n",
      "[500]\tvalid_0's l2: 2144.26\n",
      "[600]\tvalid_0's l2: 1877.83\n",
      "[700]\tvalid_0's l2: 1677.42\n",
      "[800]\tvalid_0's l2: 1576.08\n",
      "[900]\tvalid_0's l2: 1458.41\n",
      "[1000]\tvalid_0's l2: 1362.57\n",
      "Did not meet early stopping. Best iteration is:\n",
      "[995]\tvalid_0's l2: 1361.09\n"
     ]
    }
   ],
   "source": [
    "params_dailygoods={'learning_rate': 0.01, \n",
    "          'max_depth': 10, \n",
    "          'boosting': 'gbdt', \n",
    "          'objective': 'regression', \n",
    "          'metric': 'mse', \n",
    "          'is_training_metric': True, \n",
    "          'num_leaves': 10, \n",
    "          'feature_fraction': 0.9, \n",
    "          'bagging_fraction': 0.7, \n",
    "          'bagging_freq': 5, \n",
    "          'seed':2020}\n",
    "\n",
    "model_dailygoods = lgb.train(params_dailygoods, train_dailygoods_ds, 1000, valid_dailygoods_ds, verbose_eval=100, early_stopping_rounds=100)"
   ]
  },
  {
   "cell_type": "code",
   "execution_count": 75,
   "metadata": {},
   "outputs": [
    {
     "name": "stdout",
     "output_type": "stream",
     "text": [
      "[LightGBM] [Warning] Auto-choosing col-wise multi-threading, the overhead of testing was 0.000398 seconds.\n",
      "You can set `force_col_wise=true` to remove the overhead.\n",
      "[LightGBM] [Info] Total Bins 451\n",
      "[LightGBM] [Info] Number of data points in the train set: 1611, number of used features: 6\n",
      "[LightGBM] [Info] Start training from score 19.955384\n",
      "Training until validation scores don't improve for 100 rounds\n",
      "[100]\tvalid_0's l2: 214.425\n",
      "[200]\tvalid_0's l2: 146.213\n",
      "[300]\tvalid_0's l2: 123.199\n",
      "[400]\tvalid_0's l2: 107.318\n",
      "[500]\tvalid_0's l2: 95.3518\n",
      "[600]\tvalid_0's l2: 85.9674\n",
      "[700]\tvalid_0's l2: 79.7711\n",
      "[800]\tvalid_0's l2: 74.4774\n",
      "[900]\tvalid_0's l2: 69.7496\n",
      "[1000]\tvalid_0's l2: 65.6292\n",
      "Did not meet early stopping. Best iteration is:\n",
      "[1000]\tvalid_0's l2: 65.6292\n"
     ]
    }
   ],
   "source": [
    "params_funiture={'learning_rate': 0.01, \n",
    "          'max_depth': 10, \n",
    "          'boosting': 'gbdt', \n",
    "          'objective': 'regression', \n",
    "          'metric': 'mse', \n",
    "          'is_training_metric': True, \n",
    "          'num_leaves': 10, \n",
    "          'feature_fraction': 0.9, \n",
    "          'bagging_fraction': 0.7, \n",
    "          'bagging_freq': 5, \n",
    "          'seed':2020}\n",
    "\n",
    "model_funiture = lgb.train(params_funiture, train_funiture_ds, 1000, valid_funiture_ds, verbose_eval=100, early_stopping_rounds=100)"
   ]
  },
  {
   "cell_type": "code",
   "execution_count": 76,
   "metadata": {},
   "outputs": [
    {
     "name": "stdout",
     "output_type": "stream",
     "text": [
      "[LightGBM] [Warning] Auto-choosing col-wise multi-threading, the overhead of testing was 0.000369 seconds.\n",
      "You can set `force_col_wise=true` to remove the overhead.\n",
      "[LightGBM] [Info] Total Bins 807\n",
      "[LightGBM] [Info] Number of data points in the train set: 4596, number of used features: 6\n",
      "[LightGBM] [Info] Start training from score 190.678568\n",
      "Training until validation scores don't improve for 100 rounds\n",
      "[100]\tvalid_0's l2: 15297.5\n",
      "[200]\tvalid_0's l2: 5600.76\n",
      "[300]\tvalid_0's l2: 3232.05\n",
      "[400]\tvalid_0's l2: 2488.02\n",
      "[500]\tvalid_0's l2: 2214.84\n",
      "[600]\tvalid_0's l2: 2087.33\n",
      "[700]\tvalid_0's l2: 2018.63\n",
      "[800]\tvalid_0's l2: 1972.25\n",
      "[900]\tvalid_0's l2: 1940.84\n",
      "[1000]\tvalid_0's l2: 1934.55\n",
      "Did not meet early stopping. Best iteration is:\n",
      "[975]\tvalid_0's l2: 1929.61\n"
     ]
    }
   ],
   "source": [
    "params_hair={'learning_rate': 0.01, \n",
    "          'max_depth': 10, \n",
    "          'boosting': 'gbdt', \n",
    "          'objective': 'regression', \n",
    "          'metric': 'mse', \n",
    "          'is_training_metric': True, \n",
    "          'num_leaves': 10, \n",
    "          'feature_fraction': 0.9, \n",
    "          'bagging_fraction': 0.7, \n",
    "          'bagging_freq': 5, \n",
    "          'seed':2020}\n",
    "\n",
    "model_hair = lgb.train(params_hair, train_hair_ds, 1000, valid_hair_ds, verbose_eval=100, early_stopping_rounds=100)"
   ]
  },
  {
   "cell_type": "code",
   "execution_count": 77,
   "metadata": {},
   "outputs": [
    {
     "name": "stdout",
     "output_type": "stream",
     "text": [
      "[LightGBM] [Warning] Auto-choosing row-wise multi-threading, the overhead of testing was 0.000074 seconds.\n",
      "You can set `force_row_wise=true` to remove the overhead.\n",
      "And if memory is not enough, you can set `force_col_wise=true`.\n",
      "[LightGBM] [Info] Total Bins 807\n",
      "[LightGBM] [Info] Number of data points in the train set: 4596, number of used features: 6\n",
      "[LightGBM] [Info] Start training from score 190.678568\n",
      "Training until validation scores don't improve for 100 rounds\n",
      "[100]\tvalid_0's l2: 15297.5\n",
      "[200]\tvalid_0's l2: 5600.76\n",
      "[300]\tvalid_0's l2: 3232.05\n",
      "[400]\tvalid_0's l2: 2488.02\n",
      "[500]\tvalid_0's l2: 2214.84\n",
      "[600]\tvalid_0's l2: 2087.33\n",
      "[700]\tvalid_0's l2: 2018.63\n",
      "[800]\tvalid_0's l2: 1972.25\n",
      "[900]\tvalid_0's l2: 1940.84\n",
      "[1000]\tvalid_0's l2: 1934.55\n",
      "Did not meet early stopping. Best iteration is:\n",
      "[975]\tvalid_0's l2: 1929.61\n"
     ]
    }
   ],
   "source": [
    "params_health={'learning_rate': 0.01, \n",
    "          'max_depth': 10, \n",
    "          'boosting': 'gbdt', \n",
    "          'objective': 'regression', \n",
    "          'metric': 'mse', \n",
    "          'is_training_metric': True, \n",
    "          'num_leaves': 10, \n",
    "          'feature_fraction': 0.9, \n",
    "          'bagging_fraction': 0.7, \n",
    "          'bagging_freq': 5, \n",
    "          'seed':2020}\n",
    "\n",
    "model_health = lgb.train(params_health, train_health_ds, 1000, valid_health_ds, verbose_eval=100, early_stopping_rounds=100)"
   ]
  },
  {
   "cell_type": "code",
   "execution_count": 78,
   "metadata": {},
   "outputs": [
    {
     "name": "stdout",
     "output_type": "stream",
     "text": [
      "[LightGBM] [Warning] Auto-choosing col-wise multi-threading, the overhead of testing was 0.000420 seconds.\n",
      "You can set `force_col_wise=true` to remove the overhead.\n",
      "[LightGBM] [Info] Total Bins 807\n",
      "[LightGBM] [Info] Number of data points in the train set: 4596, number of used features: 6\n",
      "[LightGBM] [Info] Start training from score 190.678568\n",
      "Training until validation scores don't improve for 100 rounds\n",
      "[100]\tvalid_0's l2: 15297.5\n",
      "[200]\tvalid_0's l2: 5600.76\n",
      "[300]\tvalid_0's l2: 3232.05\n",
      "[400]\tvalid_0's l2: 2488.02\n",
      "[500]\tvalid_0's l2: 2214.84\n",
      "[600]\tvalid_0's l2: 2087.33\n",
      "[700]\tvalid_0's l2: 2018.63\n",
      "[800]\tvalid_0's l2: 1972.25\n",
      "[900]\tvalid_0's l2: 1940.84\n",
      "[1000]\tvalid_0's l2: 1934.55\n",
      "Did not meet early stopping. Best iteration is:\n",
      "[975]\tvalid_0's l2: 1929.61\n"
     ]
    }
   ],
   "source": [
    "params_bed={'learning_rate': 0.01, \n",
    "          'max_depth': 10, \n",
    "          'boosting': 'gbdt', \n",
    "          'objective': 'regression', \n",
    "          'metric': 'mse', \n",
    "          'is_training_metric': True, \n",
    "          'num_leaves': 10, \n",
    "          'feature_fraction': 0.9, \n",
    "          'bagging_fraction': 0.7, \n",
    "          'bagging_freq': 5, \n",
    "          'seed':2020}\n",
    "\n",
    "model_bed = lgb.train(params_bed, train_bed_ds, 1000, valid_bed_ds, verbose_eval=100, early_stopping_rounds=100)"
   ]
  },
  {
   "cell_type": "markdown",
   "metadata": {},
   "source": [
    "# 성능평가"
   ]
  },
  {
   "cell_type": "code",
   "execution_count": 79,
   "metadata": {},
   "outputs": [],
   "source": [
    "def MAPE(actual, pred): \n",
    "    actual, pred = np.array(actual), np.array(pred)\n",
    "    return np.mean(np.abs((actual - pred) / (actual))) * 100"
   ]
  },
  {
   "cell_type": "code",
   "execution_count": 80,
   "metadata": {},
   "outputs": [],
   "source": [
    "def SMAPE(actual, pred): \n",
    "    actual, pred = np.array(actual), np.array(pred)\n",
    "    return np.mean(np.abs(pred-actual) / (np.abs(actual)+np.abs(pred))/2) * 100"
   ]
  },
  {
   "cell_type": "code",
   "execution_count": 81,
   "metadata": {
    "scrolled": true
   },
   "outputs": [
    {
     "ename": "NameError",
     "evalue": "name 'valid_y' is not defined",
     "output_type": "error",
     "traceback": [
      "\u001b[1;31m---------------------------------------------------------------------------\u001b[0m",
      "\u001b[1;31mNameError\u001b[0m                                 Traceback (most recent call last)",
      "\u001b[1;32m<ipython-input-81-63f85e79121d>\u001b[0m in \u001b[0;36m<module>\u001b[1;34m()\u001b[0m\n\u001b[1;32m----> 1\u001b[1;33m \u001b[0mvalid_y2\u001b[0m\u001b[1;33m=\u001b[0m\u001b[0mvalid_y\u001b[0m\u001b[1;33m[\u001b[0m\u001b[0mvalid_y\u001b[0m\u001b[1;33m>=\u001b[0m\u001b[1;36m1\u001b[0m\u001b[1;33m]\u001b[0m\u001b[1;33m\u001b[0m\u001b[0m\n\u001b[0m",
      "\u001b[1;31mNameError\u001b[0m: name 'valid_y' is not defined"
     ]
    }
   ],
   "source": [
    "valid_y2=valid_y[valid_y>=1]"
   ]
  },
  {
   "cell_type": "code",
   "execution_count": null,
   "metadata": {},
   "outputs": [],
   "source": [
    "predict_train = model.predict(train_x)\n",
    "predict_valid = model.predict(valid_x)\n",
    "\n",
    "mape_train = MAPE(train_y, predict_train)\n",
    "mape_valid = MAPE(valid_y, predict_valid)\n",
    "\n",
    "print('train mape :', mape_train)\n",
    "print('valid mape :',mape_valid)"
   ]
  },
  {
   "cell_type": "code",
   "execution_count": null,
   "metadata": {},
   "outputs": [],
   "source": [
    "smape_train = SMAPE(train_y, predict_train)\n",
    "smape_valid = SMAPE(valid_y, predict_valid)\n",
    "\n",
    "print('train smape :', smape_train)\n",
    "print('valid smape :',smape_valid)"
   ]
  },
  {
   "cell_type": "code",
   "execution_count": null,
   "metadata": {},
   "outputs": [],
   "source": [
    "v_feature_names=train_x.columns\n",
    "\n",
    "df_importance=pd.DataFrame()\n",
    "df_importance['feature']=v_feature_names\n",
    "df_importance['importance']=model.feature_importance()\n",
    "df_importance.sort_values('importance',ascending=False,inplace=True)\n",
    "display(df_importance.round(3))\n",
    "\n",
    "df_importance.sort_values('importance',ascending=True,inplace=True)\n",
    "coordinates=range(len(df_importance))\n",
    "plt.barh(y=coordinates,width=df_importance['importance'])\n",
    "plt.yticks(coordinates,df_importance['feature'])\n",
    "plt.xlabel('변수 중요도')\n",
    "plt.ylabel('변수')\n"
   ]
  },
  {
   "cell_type": "markdown",
   "metadata": {},
   "source": [
    "# test"
   ]
  },
  {
   "cell_type": "code",
   "execution_count": 82,
   "metadata": {},
   "outputs": [],
   "source": [
    "test=pd.read_excel('testdata.xlsx',header=1)  "
   ]
  },
  {
   "cell_type": "code",
   "execution_count": 83,
   "metadata": {},
   "outputs": [
    {
     "data": {
      "text/html": [
       "<div>\n",
       "<style scoped>\n",
       "    .dataframe tbody tr th:only-of-type {\n",
       "        vertical-align: middle;\n",
       "    }\n",
       "\n",
       "    .dataframe tbody tr th {\n",
       "        vertical-align: top;\n",
       "    }\n",
       "\n",
       "    .dataframe thead th {\n",
       "        text-align: right;\n",
       "    }\n",
       "</style>\n",
       "<table border=\"1\" class=\"dataframe\">\n",
       "  <thead>\n",
       "    <tr style=\"text-align: right;\">\n",
       "      <th></th>\n",
       "      <th>방송일시</th>\n",
       "      <th>노출(분)</th>\n",
       "      <th>마더코드</th>\n",
       "      <th>상품코드</th>\n",
       "      <th>상품명</th>\n",
       "      <th>상품군</th>\n",
       "      <th>판매단가</th>\n",
       "      <th>취급액</th>\n",
       "    </tr>\n",
       "  </thead>\n",
       "  <tbody>\n",
       "    <tr>\n",
       "      <th>0</th>\n",
       "      <td>2020-06-01 06:20:00</td>\n",
       "      <td>20.0</td>\n",
       "      <td>100650</td>\n",
       "      <td>201971</td>\n",
       "      <td>잭필드 남성  반팔셔츠 4종</td>\n",
       "      <td>의류</td>\n",
       "      <td>59800</td>\n",
       "      <td>NaN</td>\n",
       "    </tr>\n",
       "    <tr>\n",
       "      <th>1</th>\n",
       "      <td>2020-06-01 06:40:00</td>\n",
       "      <td>20.0</td>\n",
       "      <td>100650</td>\n",
       "      <td>201971</td>\n",
       "      <td>잭필드 남성  반팔셔츠 4종</td>\n",
       "      <td>의류</td>\n",
       "      <td>59800</td>\n",
       "      <td>NaN</td>\n",
       "    </tr>\n",
       "    <tr>\n",
       "      <th>2</th>\n",
       "      <td>2020-06-01 07:00:00</td>\n",
       "      <td>20.0</td>\n",
       "      <td>100650</td>\n",
       "      <td>201971</td>\n",
       "      <td>잭필드 남성  반팔셔츠 4종</td>\n",
       "      <td>의류</td>\n",
       "      <td>59800</td>\n",
       "      <td>NaN</td>\n",
       "    </tr>\n",
       "    <tr>\n",
       "      <th>3</th>\n",
       "      <td>2020-06-01 07:20:00</td>\n",
       "      <td>20.0</td>\n",
       "      <td>100445</td>\n",
       "      <td>202278</td>\n",
       "      <td>쿠미투니카 쿨 레이시 란쥬쉐이퍼&amp;팬티</td>\n",
       "      <td>속옷</td>\n",
       "      <td>69900</td>\n",
       "      <td>NaN</td>\n",
       "    </tr>\n",
       "    <tr>\n",
       "      <th>4</th>\n",
       "      <td>2020-06-01 07:40:00</td>\n",
       "      <td>20.0</td>\n",
       "      <td>100445</td>\n",
       "      <td>202278</td>\n",
       "      <td>쿠미투니카 쿨 레이시 란쥬쉐이퍼&amp;팬티</td>\n",
       "      <td>속옷</td>\n",
       "      <td>69900</td>\n",
       "      <td>NaN</td>\n",
       "    </tr>\n",
       "  </tbody>\n",
       "</table>\n",
       "</div>"
      ],
      "text/plain": [
       "                 방송일시  노출(분)    마더코드    상품코드                   상품명 상품군   판매단가  \\\n",
       "0 2020-06-01 06:20:00   20.0  100650  201971       잭필드 남성  반팔셔츠 4종  의류  59800   \n",
       "1 2020-06-01 06:40:00   20.0  100650  201971       잭필드 남성  반팔셔츠 4종  의류  59800   \n",
       "2 2020-06-01 07:00:00   20.0  100650  201971       잭필드 남성  반팔셔츠 4종  의류  59800   \n",
       "3 2020-06-01 07:20:00   20.0  100445  202278  쿠미투니카 쿨 레이시 란쥬쉐이퍼&팬티  속옷  69900   \n",
       "4 2020-06-01 07:40:00   20.0  100445  202278  쿠미투니카 쿨 레이시 란쥬쉐이퍼&팬티  속옷  69900   \n",
       "\n",
       "   취급액  \n",
       "0  NaN  \n",
       "1  NaN  \n",
       "2  NaN  \n",
       "3  NaN  \n",
       "4  NaN  "
      ]
     },
     "execution_count": 83,
     "metadata": {},
     "output_type": "execute_result"
    }
   ],
   "source": [
    "test.head()"
   ]
  },
  {
   "cell_type": "code",
   "execution_count": 149,
   "metadata": {},
   "outputs": [],
   "source": [
    "test.rename(columns={\"방송일시\": \"datetime\", \"노출(분)\": \"ExposureTime\",\n",
    "                      \"마더코드\": \"MotherCode\", \"상품코드\": \"ItemCode\",\n",
    "                      \"상품명\": \"ItemName\", \"상품군\": \"ItemCat\",\n",
    "                      \"판매단가\": \"Price\", \"취급액\": \"SellingPrice\"}, inplace=True)"
   ]
  },
  {
   "cell_type": "code",
   "execution_count": 161,
   "metadata": {},
   "outputs": [],
   "source": [
    "test['sales']=np.nan"
   ]
  },
  {
   "cell_type": "code",
   "execution_count": 162,
   "metadata": {},
   "outputs": [
    {
     "data": {
      "text/html": [
       "<div>\n",
       "<style scoped>\n",
       "    .dataframe tbody tr th:only-of-type {\n",
       "        vertical-align: middle;\n",
       "    }\n",
       "\n",
       "    .dataframe tbody tr th {\n",
       "        vertical-align: top;\n",
       "    }\n",
       "\n",
       "    .dataframe thead th {\n",
       "        text-align: right;\n",
       "    }\n",
       "</style>\n",
       "<table border=\"1\" class=\"dataframe\">\n",
       "  <thead>\n",
       "    <tr style=\"text-align: right;\">\n",
       "      <th></th>\n",
       "      <th>datetime</th>\n",
       "      <th>ExposureTime</th>\n",
       "      <th>MotherCode</th>\n",
       "      <th>ItemCode</th>\n",
       "      <th>ItemName</th>\n",
       "      <th>ItemCat</th>\n",
       "      <th>Price</th>\n",
       "      <th>SellingPrice</th>\n",
       "      <th>sales</th>\n",
       "    </tr>\n",
       "  </thead>\n",
       "  <tbody>\n",
       "    <tr>\n",
       "      <th>0</th>\n",
       "      <td>2020-06-01 06:20:00</td>\n",
       "      <td>20.0</td>\n",
       "      <td>100650</td>\n",
       "      <td>201971</td>\n",
       "      <td>잭필드 남성  반팔셔츠 4종</td>\n",
       "      <td>의류</td>\n",
       "      <td>59800</td>\n",
       "      <td>NaN</td>\n",
       "      <td>NaN</td>\n",
       "    </tr>\n",
       "    <tr>\n",
       "      <th>1</th>\n",
       "      <td>2020-06-01 06:40:00</td>\n",
       "      <td>20.0</td>\n",
       "      <td>100650</td>\n",
       "      <td>201971</td>\n",
       "      <td>잭필드 남성  반팔셔츠 4종</td>\n",
       "      <td>의류</td>\n",
       "      <td>59800</td>\n",
       "      <td>NaN</td>\n",
       "      <td>NaN</td>\n",
       "    </tr>\n",
       "    <tr>\n",
       "      <th>2</th>\n",
       "      <td>2020-06-01 07:00:00</td>\n",
       "      <td>20.0</td>\n",
       "      <td>100650</td>\n",
       "      <td>201971</td>\n",
       "      <td>잭필드 남성  반팔셔츠 4종</td>\n",
       "      <td>의류</td>\n",
       "      <td>59800</td>\n",
       "      <td>NaN</td>\n",
       "      <td>NaN</td>\n",
       "    </tr>\n",
       "    <tr>\n",
       "      <th>3</th>\n",
       "      <td>2020-06-01 07:20:00</td>\n",
       "      <td>20.0</td>\n",
       "      <td>100445</td>\n",
       "      <td>202278</td>\n",
       "      <td>쿠미투니카 쿨 레이시 란쥬쉐이퍼&amp;팬티</td>\n",
       "      <td>속옷</td>\n",
       "      <td>69900</td>\n",
       "      <td>NaN</td>\n",
       "      <td>NaN</td>\n",
       "    </tr>\n",
       "    <tr>\n",
       "      <th>4</th>\n",
       "      <td>2020-06-01 07:40:00</td>\n",
       "      <td>20.0</td>\n",
       "      <td>100445</td>\n",
       "      <td>202278</td>\n",
       "      <td>쿠미투니카 쿨 레이시 란쥬쉐이퍼&amp;팬티</td>\n",
       "      <td>속옷</td>\n",
       "      <td>69900</td>\n",
       "      <td>NaN</td>\n",
       "      <td>NaN</td>\n",
       "    </tr>\n",
       "  </tbody>\n",
       "</table>\n",
       "</div>"
      ],
      "text/plain": [
       "             datetime  ExposureTime  MotherCode  ItemCode  \\\n",
       "0 2020-06-01 06:20:00          20.0      100650    201971   \n",
       "1 2020-06-01 06:40:00          20.0      100650    201971   \n",
       "2 2020-06-01 07:00:00          20.0      100650    201971   \n",
       "3 2020-06-01 07:20:00          20.0      100445    202278   \n",
       "4 2020-06-01 07:40:00          20.0      100445    202278   \n",
       "\n",
       "               ItemName ItemCat  Price  SellingPrice  sales  \n",
       "0       잭필드 남성  반팔셔츠 4종      의류  59800           NaN    NaN  \n",
       "1       잭필드 남성  반팔셔츠 4종      의류  59800           NaN    NaN  \n",
       "2       잭필드 남성  반팔셔츠 4종      의류  59800           NaN    NaN  \n",
       "3  쿠미투니카 쿨 레이시 란쥬쉐이퍼&팬티      속옷  69900           NaN    NaN  \n",
       "4  쿠미투니카 쿨 레이시 란쥬쉐이퍼&팬티      속옷  69900           NaN    NaN  "
      ]
     },
     "execution_count": 162,
     "metadata": {},
     "output_type": "execute_result"
    }
   ],
   "source": [
    "test.head()"
   ]
  },
  {
   "cell_type": "code",
   "execution_count": 165,
   "metadata": {},
   "outputs": [],
   "source": [
    "test_y = test['sales']\n",
    "test_x = test.drop(['sales','SellingPrice'],axis=1)"
   ]
  },
  {
   "cell_type": "code",
   "execution_count": 166,
   "metadata": {},
   "outputs": [
    {
     "data": {
      "text/html": [
       "<div>\n",
       "<style scoped>\n",
       "    .dataframe tbody tr th:only-of-type {\n",
       "        vertical-align: middle;\n",
       "    }\n",
       "\n",
       "    .dataframe tbody tr th {\n",
       "        vertical-align: top;\n",
       "    }\n",
       "\n",
       "    .dataframe thead th {\n",
       "        text-align: right;\n",
       "    }\n",
       "</style>\n",
       "<table border=\"1\" class=\"dataframe\">\n",
       "  <thead>\n",
       "    <tr style=\"text-align: right;\">\n",
       "      <th></th>\n",
       "      <th>datetime</th>\n",
       "      <th>ExposureTime</th>\n",
       "      <th>MotherCode</th>\n",
       "      <th>ItemCode</th>\n",
       "      <th>ItemName</th>\n",
       "      <th>ItemCat</th>\n",
       "      <th>Price</th>\n",
       "    </tr>\n",
       "  </thead>\n",
       "  <tbody>\n",
       "    <tr>\n",
       "      <th>0</th>\n",
       "      <td>2020-06-01 06:20:00</td>\n",
       "      <td>20.000000</td>\n",
       "      <td>100650</td>\n",
       "      <td>201971</td>\n",
       "      <td>잭필드 남성  반팔셔츠 4종</td>\n",
       "      <td>의류</td>\n",
       "      <td>59800</td>\n",
       "    </tr>\n",
       "    <tr>\n",
       "      <th>1</th>\n",
       "      <td>2020-06-01 06:40:00</td>\n",
       "      <td>20.000000</td>\n",
       "      <td>100650</td>\n",
       "      <td>201971</td>\n",
       "      <td>잭필드 남성  반팔셔츠 4종</td>\n",
       "      <td>의류</td>\n",
       "      <td>59800</td>\n",
       "    </tr>\n",
       "    <tr>\n",
       "      <th>2</th>\n",
       "      <td>2020-06-01 07:00:00</td>\n",
       "      <td>20.000000</td>\n",
       "      <td>100650</td>\n",
       "      <td>201971</td>\n",
       "      <td>잭필드 남성  반팔셔츠 4종</td>\n",
       "      <td>의류</td>\n",
       "      <td>59800</td>\n",
       "    </tr>\n",
       "    <tr>\n",
       "      <th>3</th>\n",
       "      <td>2020-06-01 07:20:00</td>\n",
       "      <td>20.000000</td>\n",
       "      <td>100445</td>\n",
       "      <td>202278</td>\n",
       "      <td>쿠미투니카 쿨 레이시 란쥬쉐이퍼&amp;팬티</td>\n",
       "      <td>속옷</td>\n",
       "      <td>69900</td>\n",
       "    </tr>\n",
       "    <tr>\n",
       "      <th>4</th>\n",
       "      <td>2020-06-01 07:40:00</td>\n",
       "      <td>20.000000</td>\n",
       "      <td>100445</td>\n",
       "      <td>202278</td>\n",
       "      <td>쿠미투니카 쿨 레이시 란쥬쉐이퍼&amp;팬티</td>\n",
       "      <td>속옷</td>\n",
       "      <td>69900</td>\n",
       "    </tr>\n",
       "    <tr>\n",
       "      <th>...</th>\n",
       "      <td>...</td>\n",
       "      <td>...</td>\n",
       "      <td>...</td>\n",
       "      <td>...</td>\n",
       "      <td>...</td>\n",
       "      <td>...</td>\n",
       "      <td>...</td>\n",
       "    </tr>\n",
       "    <tr>\n",
       "      <th>2886</th>\n",
       "      <td>2020-07-01 00:20:00</td>\n",
       "      <td>20.000000</td>\n",
       "      <td>100660</td>\n",
       "      <td>201989</td>\n",
       "      <td>쉴렉스  안마의자 렌탈서비스</td>\n",
       "      <td>무형</td>\n",
       "      <td>0</td>\n",
       "    </tr>\n",
       "    <tr>\n",
       "      <th>2887</th>\n",
       "      <td>2020-07-01 00:40:00</td>\n",
       "      <td>20.000000</td>\n",
       "      <td>100660</td>\n",
       "      <td>201989</td>\n",
       "      <td>쉴렉스  안마의자 렌탈서비스</td>\n",
       "      <td>무형</td>\n",
       "      <td>0</td>\n",
       "    </tr>\n",
       "    <tr>\n",
       "      <th>2888</th>\n",
       "      <td>2020-07-01 01:00:00</td>\n",
       "      <td>20.000000</td>\n",
       "      <td>100660</td>\n",
       "      <td>201989</td>\n",
       "      <td>쉴렉스  안마의자 렌탈서비스</td>\n",
       "      <td>무형</td>\n",
       "      <td>0</td>\n",
       "    </tr>\n",
       "    <tr>\n",
       "      <th>2889</th>\n",
       "      <td>2020-07-01 01:20:00</td>\n",
       "      <td>20.000000</td>\n",
       "      <td>100261</td>\n",
       "      <td>200875</td>\n",
       "      <td>아놀드파마 티셔츠레깅스세트</td>\n",
       "      <td>의류</td>\n",
       "      <td>69900</td>\n",
       "    </tr>\n",
       "    <tr>\n",
       "      <th>2890</th>\n",
       "      <td>2020-07-01 01:40:00</td>\n",
       "      <td>15.933333</td>\n",
       "      <td>100261</td>\n",
       "      <td>200875</td>\n",
       "      <td>아놀드파마 티셔츠레깅스세트</td>\n",
       "      <td>의류</td>\n",
       "      <td>69900</td>\n",
       "    </tr>\n",
       "  </tbody>\n",
       "</table>\n",
       "<p>2891 rows × 7 columns</p>\n",
       "</div>"
      ],
      "text/plain": [
       "                datetime  ExposureTime  MotherCode  ItemCode  \\\n",
       "0    2020-06-01 06:20:00     20.000000      100650    201971   \n",
       "1    2020-06-01 06:40:00     20.000000      100650    201971   \n",
       "2    2020-06-01 07:00:00     20.000000      100650    201971   \n",
       "3    2020-06-01 07:20:00     20.000000      100445    202278   \n",
       "4    2020-06-01 07:40:00     20.000000      100445    202278   \n",
       "...                  ...           ...         ...       ...   \n",
       "2886 2020-07-01 00:20:00     20.000000      100660    201989   \n",
       "2887 2020-07-01 00:40:00     20.000000      100660    201989   \n",
       "2888 2020-07-01 01:00:00     20.000000      100660    201989   \n",
       "2889 2020-07-01 01:20:00     20.000000      100261    200875   \n",
       "2890 2020-07-01 01:40:00     15.933333      100261    200875   \n",
       "\n",
       "                  ItemName ItemCat  Price  \n",
       "0          잭필드 남성  반팔셔츠 4종      의류  59800  \n",
       "1          잭필드 남성  반팔셔츠 4종      의류  59800  \n",
       "2          잭필드 남성  반팔셔츠 4종      의류  59800  \n",
       "3     쿠미투니카 쿨 레이시 란쥬쉐이퍼&팬티      속옷  69900  \n",
       "4     쿠미투니카 쿨 레이시 란쥬쉐이퍼&팬티      속옷  69900  \n",
       "...                    ...     ...    ...  \n",
       "2886       쉴렉스  안마의자 렌탈서비스      무형      0  \n",
       "2887       쉴렉스  안마의자 렌탈서비스      무형      0  \n",
       "2888       쉴렉스  안마의자 렌탈서비스      무형      0  \n",
       "2889        아놀드파마 티셔츠레깅스세트      의류  69900  \n",
       "2890        아놀드파마 티셔츠레깅스세트      의류  69900  \n",
       "\n",
       "[2891 rows x 7 columns]"
      ]
     },
     "execution_count": 166,
     "metadata": {},
     "output_type": "execute_result"
    }
   ],
   "source": [
    "test_x"
   ]
  },
  {
   "cell_type": "code",
   "execution_count": 170,
   "metadata": {},
   "outputs": [
    {
     "ename": "TypeError",
     "evalue": "Cannot predict data for type Series",
     "output_type": "error",
     "traceback": [
      "\u001b[1;31m---------------------------------------------------------------------------\u001b[0m",
      "\u001b[1;31mTypeError\u001b[0m                                 Traceback (most recent call last)",
      "\u001b[1;32m~\\Anaconda3\\lib\\site-packages\\lightgbm\\basic.py\u001b[0m in \u001b[0;36mpredict\u001b[1;34m(self, data, start_iteration, num_iteration, raw_score, pred_leaf, pred_contrib, data_has_header, is_reshape)\u001b[0m\n\u001b[0;32m    597\u001b[0m                 \u001b[0mwarnings\u001b[0m\u001b[1;33m.\u001b[0m\u001b[0mwarn\u001b[0m\u001b[1;33m(\u001b[0m\u001b[1;34m'Converting data to scipy sparse matrix.'\u001b[0m\u001b[1;33m)\u001b[0m\u001b[1;33m\u001b[0m\u001b[0m\n\u001b[1;32m--> 598\u001b[1;33m                 \u001b[0mcsr\u001b[0m \u001b[1;33m=\u001b[0m \u001b[0mscipy\u001b[0m\u001b[1;33m.\u001b[0m\u001b[0msparse\u001b[0m\u001b[1;33m.\u001b[0m\u001b[0mcsr_matrix\u001b[0m\u001b[1;33m(\u001b[0m\u001b[0mdata\u001b[0m\u001b[1;33m)\u001b[0m\u001b[1;33m\u001b[0m\u001b[0m\n\u001b[0m\u001b[0;32m    599\u001b[0m             \u001b[1;32mexcept\u001b[0m \u001b[0mBaseException\u001b[0m\u001b[1;33m:\u001b[0m\u001b[1;33m\u001b[0m\u001b[0m\n",
      "\u001b[1;32m~\\Anaconda3\\lib\\site-packages\\scipy\\sparse\\compressed.py\u001b[0m in \u001b[0;36m__init__\u001b[1;34m(self, arg1, shape, dtype, copy)\u001b[0m\n\u001b[0;32m     78\u001b[0m             \u001b[1;32mfrom\u001b[0m \u001b[1;33m.\u001b[0m\u001b[0mcoo\u001b[0m \u001b[1;32mimport\u001b[0m \u001b[0mcoo_matrix\u001b[0m\u001b[1;33m\u001b[0m\u001b[0m\n\u001b[1;32m---> 79\u001b[1;33m             \u001b[0mself\u001b[0m\u001b[1;33m.\u001b[0m\u001b[0m_set_self\u001b[0m\u001b[1;33m(\u001b[0m\u001b[0mself\u001b[0m\u001b[1;33m.\u001b[0m\u001b[0m__class__\u001b[0m\u001b[1;33m(\u001b[0m\u001b[0mcoo_matrix\u001b[0m\u001b[1;33m(\u001b[0m\u001b[0marg1\u001b[0m\u001b[1;33m,\u001b[0m \u001b[0mdtype\u001b[0m\u001b[1;33m=\u001b[0m\u001b[0mdtype\u001b[0m\u001b[1;33m)\u001b[0m\u001b[1;33m)\u001b[0m\u001b[1;33m)\u001b[0m\u001b[1;33m\u001b[0m\u001b[0m\n\u001b[0m\u001b[0;32m     80\u001b[0m \u001b[1;33m\u001b[0m\u001b[0m\n",
      "\u001b[1;32m~\\Anaconda3\\lib\\site-packages\\scipy\\sparse\\compressed.py\u001b[0m in \u001b[0;36m__init__\u001b[1;34m(self, arg1, shape, dtype, copy)\u001b[0m\n\u001b[0;32m     31\u001b[0m             \u001b[1;32melse\u001b[0m\u001b[1;33m:\u001b[0m\u001b[1;33m\u001b[0m\u001b[0m\n\u001b[1;32m---> 32\u001b[1;33m                 \u001b[0marg1\u001b[0m \u001b[1;33m=\u001b[0m \u001b[0marg1\u001b[0m\u001b[1;33m.\u001b[0m\u001b[0masformat\u001b[0m\u001b[1;33m(\u001b[0m\u001b[0mself\u001b[0m\u001b[1;33m.\u001b[0m\u001b[0mformat\u001b[0m\u001b[1;33m)\u001b[0m\u001b[1;33m\u001b[0m\u001b[0m\n\u001b[0m\u001b[0;32m     33\u001b[0m             \u001b[0mself\u001b[0m\u001b[1;33m.\u001b[0m\u001b[0m_set_self\u001b[0m\u001b[1;33m(\u001b[0m\u001b[0marg1\u001b[0m\u001b[1;33m)\u001b[0m\u001b[1;33m\u001b[0m\u001b[0m\n",
      "\u001b[1;32m~\\Anaconda3\\lib\\site-packages\\scipy\\sparse\\base.py\u001b[0m in \u001b[0;36masformat\u001b[1;34m(self, format, copy)\u001b[0m\n\u001b[0;32m    325\u001b[0m             \u001b[1;32melse\u001b[0m\u001b[1;33m:\u001b[0m\u001b[1;33m\u001b[0m\u001b[0m\n\u001b[1;32m--> 326\u001b[1;33m                 \u001b[1;32mreturn\u001b[0m \u001b[0mconvert_method\u001b[0m\u001b[1;33m(\u001b[0m\u001b[0mcopy\u001b[0m\u001b[1;33m=\u001b[0m\u001b[0mcopy\u001b[0m\u001b[1;33m)\u001b[0m\u001b[1;33m\u001b[0m\u001b[0m\n\u001b[0m\u001b[0;32m    327\u001b[0m \u001b[1;33m\u001b[0m\u001b[0m\n",
      "\u001b[1;32m~\\Anaconda3\\lib\\site-packages\\scipy\\sparse\\coo.py\u001b[0m in \u001b[0;36mtocsr\u001b[1;34m(self, copy)\u001b[0m\n\u001b[0;32m    392\u001b[0m             \u001b[0mindices\u001b[0m \u001b[1;33m=\u001b[0m \u001b[0mnp\u001b[0m\u001b[1;33m.\u001b[0m\u001b[0mempty_like\u001b[0m\u001b[1;33m(\u001b[0m\u001b[0mcol\u001b[0m\u001b[1;33m,\u001b[0m \u001b[0mdtype\u001b[0m\u001b[1;33m=\u001b[0m\u001b[0midx_dtype\u001b[0m\u001b[1;33m)\u001b[0m\u001b[1;33m\u001b[0m\u001b[0m\n\u001b[1;32m--> 393\u001b[1;33m             \u001b[0mdata\u001b[0m \u001b[1;33m=\u001b[0m \u001b[0mnp\u001b[0m\u001b[1;33m.\u001b[0m\u001b[0mempty_like\u001b[0m\u001b[1;33m(\u001b[0m\u001b[0mself\u001b[0m\u001b[1;33m.\u001b[0m\u001b[0mdata\u001b[0m\u001b[1;33m,\u001b[0m \u001b[0mdtype\u001b[0m\u001b[1;33m=\u001b[0m\u001b[0mupcast\u001b[0m\u001b[1;33m(\u001b[0m\u001b[0mself\u001b[0m\u001b[1;33m.\u001b[0m\u001b[0mdtype\u001b[0m\u001b[1;33m)\u001b[0m\u001b[1;33m)\u001b[0m\u001b[1;33m\u001b[0m\u001b[0m\n\u001b[0m\u001b[0;32m    394\u001b[0m \u001b[1;33m\u001b[0m\u001b[0m\n",
      "\u001b[1;32m~\\Anaconda3\\lib\\site-packages\\scipy\\sparse\\sputils.py\u001b[0m in \u001b[0;36mupcast\u001b[1;34m(*args)\u001b[0m\n\u001b[0;32m     51\u001b[0m \u001b[1;33m\u001b[0m\u001b[0m\n\u001b[1;32m---> 52\u001b[1;33m     \u001b[1;32mraise\u001b[0m \u001b[0mTypeError\u001b[0m\u001b[1;33m(\u001b[0m\u001b[1;34m'no supported conversion for types: %r'\u001b[0m \u001b[1;33m%\u001b[0m \u001b[1;33m(\u001b[0m\u001b[0margs\u001b[0m\u001b[1;33m,\u001b[0m\u001b[1;33m)\u001b[0m\u001b[1;33m)\u001b[0m\u001b[1;33m\u001b[0m\u001b[0m\n\u001b[0m\u001b[0;32m     53\u001b[0m \u001b[1;33m\u001b[0m\u001b[0m\n",
      "\u001b[1;31mTypeError\u001b[0m: no supported conversion for types: (dtype('O'),)",
      "\nDuring handling of the above exception, another exception occurred:\n",
      "\u001b[1;31mTypeError\u001b[0m                                 Traceback (most recent call last)",
      "\u001b[1;32m<ipython-input-170-15e4c914ec7a>\u001b[0m in \u001b[0;36m<module>\u001b[1;34m()\u001b[0m\n\u001b[0;32m      2\u001b[0m \u001b[1;32mfor\u001b[0m \u001b[0mi\u001b[0m \u001b[1;32min\u001b[0m \u001b[0mtest_x\u001b[0m\u001b[1;33m.\u001b[0m\u001b[0mindex\u001b[0m\u001b[1;33m:\u001b[0m\u001b[1;33m\u001b[0m\u001b[0m\n\u001b[0;32m      3\u001b[0m     \u001b[1;32mif\u001b[0m \u001b[1;33m(\u001b[0m\u001b[0mtest_x\u001b[0m\u001b[1;33m.\u001b[0m\u001b[0mloc\u001b[0m\u001b[1;33m[\u001b[0m\u001b[0mi\u001b[0m\u001b[1;33m]\u001b[0m\u001b[1;33m[\u001b[0m\u001b[1;34m'ItemCat'\u001b[0m\u001b[1;33m]\u001b[0m\u001b[1;33m==\u001b[0m\u001b[1;34m'의류'\u001b[0m\u001b[1;33m)\u001b[0m\u001b[1;33m==\u001b[0m\u001b[1;32mTrue\u001b[0m\u001b[1;33m:\u001b[0m\u001b[1;33m\u001b[0m\u001b[0m\n\u001b[1;32m----> 4\u001b[1;33m         \u001b[0my_pred\u001b[0m\u001b[1;33m=\u001b[0m\u001b[0mmodel_clothes\u001b[0m\u001b[1;33m.\u001b[0m\u001b[0mpredict\u001b[0m\u001b[1;33m(\u001b[0m\u001b[0mtest_x\u001b[0m\u001b[1;33m.\u001b[0m\u001b[0mloc\u001b[0m\u001b[1;33m[\u001b[0m\u001b[0mi\u001b[0m\u001b[1;33m]\u001b[0m\u001b[1;33m)\u001b[0m\u001b[1;33m\u001b[0m\u001b[0m\n\u001b[0m\u001b[0;32m      5\u001b[0m         \u001b[0mtest_y\u001b[0m\u001b[1;33m.\u001b[0m\u001b[0mloc\u001b[0m\u001b[1;33m[\u001b[0m\u001b[0mi\u001b[0m\u001b[1;33m]\u001b[0m\u001b[1;33m[\u001b[0m\u001b[1;34m'sales'\u001b[0m\u001b[1;33m]\u001b[0m\u001b[1;33m=\u001b[0m\u001b[0my_pred\u001b[0m\u001b[1;33m\u001b[0m\u001b[0m\n\u001b[0;32m      6\u001b[0m         \u001b[1;31m#test_x.loc[i]['SellingPrice']=y_pred*test.loc[i]['Price']\u001b[0m\u001b[1;33m\u001b[0m\u001b[1;33m\u001b[0m\u001b[0m\n",
      "\u001b[1;32m~\\Anaconda3\\lib\\site-packages\\lightgbm\\basic.py\u001b[0m in \u001b[0;36mpredict\u001b[1;34m(self, data, start_iteration, num_iteration, raw_score, pred_leaf, pred_contrib, data_has_header, is_reshape, **kwargs)\u001b[0m\n\u001b[0;32m   2869\u001b[0m         return predictor.predict(data, start_iteration, num_iteration,\n\u001b[0;32m   2870\u001b[0m                                  \u001b[0mraw_score\u001b[0m\u001b[1;33m,\u001b[0m \u001b[0mpred_leaf\u001b[0m\u001b[1;33m,\u001b[0m \u001b[0mpred_contrib\u001b[0m\u001b[1;33m,\u001b[0m\u001b[1;33m\u001b[0m\u001b[0m\n\u001b[1;32m-> 2871\u001b[1;33m                                  data_has_header, is_reshape)\n\u001b[0m\u001b[0;32m   2872\u001b[0m \u001b[1;33m\u001b[0m\u001b[0m\n\u001b[0;32m   2873\u001b[0m     \u001b[1;32mdef\u001b[0m \u001b[0mrefit\u001b[0m\u001b[1;33m(\u001b[0m\u001b[0mself\u001b[0m\u001b[1;33m,\u001b[0m \u001b[0mdata\u001b[0m\u001b[1;33m,\u001b[0m \u001b[0mlabel\u001b[0m\u001b[1;33m,\u001b[0m \u001b[0mdecay_rate\u001b[0m\u001b[1;33m=\u001b[0m\u001b[1;36m0.9\u001b[0m\u001b[1;33m,\u001b[0m \u001b[1;33m**\u001b[0m\u001b[0mkwargs\u001b[0m\u001b[1;33m)\u001b[0m\u001b[1;33m:\u001b[0m\u001b[1;33m\u001b[0m\u001b[0m\n",
      "\u001b[1;32m~\\Anaconda3\\lib\\site-packages\\lightgbm\\basic.py\u001b[0m in \u001b[0;36mpredict\u001b[1;34m(self, data, start_iteration, num_iteration, raw_score, pred_leaf, pred_contrib, data_has_header, is_reshape)\u001b[0m\n\u001b[0;32m    598\u001b[0m                 \u001b[0mcsr\u001b[0m \u001b[1;33m=\u001b[0m \u001b[0mscipy\u001b[0m\u001b[1;33m.\u001b[0m\u001b[0msparse\u001b[0m\u001b[1;33m.\u001b[0m\u001b[0mcsr_matrix\u001b[0m\u001b[1;33m(\u001b[0m\u001b[0mdata\u001b[0m\u001b[1;33m)\u001b[0m\u001b[1;33m\u001b[0m\u001b[0m\n\u001b[0;32m    599\u001b[0m             \u001b[1;32mexcept\u001b[0m \u001b[0mBaseException\u001b[0m\u001b[1;33m:\u001b[0m\u001b[1;33m\u001b[0m\u001b[0m\n\u001b[1;32m--> 600\u001b[1;33m                 \u001b[1;32mraise\u001b[0m \u001b[0mTypeError\u001b[0m\u001b[1;33m(\u001b[0m\u001b[1;34m'Cannot predict data for type {}'\u001b[0m\u001b[1;33m.\u001b[0m\u001b[0mformat\u001b[0m\u001b[1;33m(\u001b[0m\u001b[0mtype\u001b[0m\u001b[1;33m(\u001b[0m\u001b[0mdata\u001b[0m\u001b[1;33m)\u001b[0m\u001b[1;33m.\u001b[0m\u001b[0m__name__\u001b[0m\u001b[1;33m)\u001b[0m\u001b[1;33m)\u001b[0m\u001b[1;33m\u001b[0m\u001b[0m\n\u001b[0m\u001b[0;32m    601\u001b[0m             \u001b[0mpreds\u001b[0m\u001b[1;33m,\u001b[0m \u001b[0mnrow\u001b[0m \u001b[1;33m=\u001b[0m \u001b[0mself\u001b[0m\u001b[1;33m.\u001b[0m\u001b[0m__pred_for_csr\u001b[0m\u001b[1;33m(\u001b[0m\u001b[0mcsr\u001b[0m\u001b[1;33m,\u001b[0m \u001b[0mstart_iteration\u001b[0m\u001b[1;33m,\u001b[0m \u001b[0mnum_iteration\u001b[0m\u001b[1;33m,\u001b[0m \u001b[0mpredict_type\u001b[0m\u001b[1;33m)\u001b[0m\u001b[1;33m\u001b[0m\u001b[0m\n\u001b[0;32m    602\u001b[0m         \u001b[1;32mif\u001b[0m \u001b[0mpred_leaf\u001b[0m\u001b[1;33m:\u001b[0m\u001b[1;33m\u001b[0m\u001b[0m\n",
      "\u001b[1;31mTypeError\u001b[0m: Cannot predict data for type Series"
     ]
    }
   ],
   "source": [
    "\n",
    "for i in test_x.index:\n",
    "    if (test_x.loc[i]['ItemCat']=='의류')==True:\n",
    "        y_pred=model_clothes.predict(test_x.loc[i])\n",
    "        test_y.loc[i]['sales']=y_pred\n",
    "        #test_x.loc[i]['SellingPrice']=y_pred*test.loc[i]['Price']\n",
    "        print('의류')"
   ]
  },
  {
   "cell_type": "code",
   "execution_count": 89,
   "metadata": {},
   "outputs": [
    {
     "ename": "TypeError",
     "evalue": "Cannot index by location index with a non-integer key",
     "output_type": "error",
     "traceback": [
      "\u001b[1;31m---------------------------------------------------------------------------\u001b[0m",
      "\u001b[1;31mTypeError\u001b[0m                                 Traceback (most recent call last)",
      "\u001b[1;32m<ipython-input-89-f94736327426>\u001b[0m in \u001b[0;36m<module>\u001b[1;34m()\u001b[0m\n\u001b[0;32m      1\u001b[0m \u001b[0mi\u001b[0m\u001b[1;33m=\u001b[0m\u001b[1;36m0\u001b[0m\u001b[1;33m\u001b[0m\u001b[0m\n\u001b[0;32m      2\u001b[0m \u001b[1;32mfor\u001b[0m \u001b[0mi\u001b[0m \u001b[1;32min\u001b[0m \u001b[0mtest\u001b[0m\u001b[1;33m.\u001b[0m\u001b[0miloc\u001b[0m\u001b[1;33m[\u001b[0m\u001b[0mi\u001b[0m\u001b[1;33m]\u001b[0m\u001b[1;33m:\u001b[0m\u001b[1;33m\u001b[0m\u001b[0m\n\u001b[1;32m----> 3\u001b[1;33m     \u001b[1;32mif\u001b[0m \u001b[0mtest\u001b[0m\u001b[1;33m.\u001b[0m\u001b[0miloc\u001b[0m\u001b[1;33m[\u001b[0m\u001b[0mi\u001b[0m\u001b[1;33m]\u001b[0m\u001b[1;33m[\u001b[0m\u001b[1;34m'ItemCat'\u001b[0m\u001b[1;33m]\u001b[0m\u001b[1;33m==\u001b[0m\u001b[1;34m'의류'\u001b[0m\u001b[1;33m:\u001b[0m\u001b[1;33m\u001b[0m\u001b[0m\n\u001b[0m\u001b[0;32m      4\u001b[0m         \u001b[0my_pred\u001b[0m\u001b[1;33m=\u001b[0m\u001b[0mmodel_clothes\u001b[0m\u001b[1;33m.\u001b[0m\u001b[0mpredict\u001b[0m\u001b[1;33m(\u001b[0m\u001b[0mtest_x\u001b[0m\u001b[1;33m)\u001b[0m\u001b[1;33m\u001b[0m\u001b[0m\n\u001b[0;32m      5\u001b[0m         \u001b[0mtest\u001b[0m\u001b[1;33m.\u001b[0m\u001b[0miloc\u001b[0m\u001b[1;33m[\u001b[0m\u001b[0mi\u001b[0m\u001b[1;33m]\u001b[0m\u001b[1;33m[\u001b[0m\u001b[1;34m'sales'\u001b[0m\u001b[1;33m]\u001b[0m\u001b[1;33m=\u001b[0m\u001b[0my_pred\u001b[0m\u001b[1;33m\u001b[0m\u001b[0m\n",
      "\u001b[1;32m~\\Anaconda3\\lib\\site-packages\\pandas\\core\\indexing.py\u001b[0m in \u001b[0;36m__getitem__\u001b[1;34m(self, key)\u001b[0m\n\u001b[0;32m    877\u001b[0m \u001b[1;33m\u001b[0m\u001b[0m\n\u001b[0;32m    878\u001b[0m             \u001b[0mmaybe_callable\u001b[0m \u001b[1;33m=\u001b[0m \u001b[0mcom\u001b[0m\u001b[1;33m.\u001b[0m\u001b[0mapply_if_callable\u001b[0m\u001b[1;33m(\u001b[0m\u001b[0mkey\u001b[0m\u001b[1;33m,\u001b[0m \u001b[0mself\u001b[0m\u001b[1;33m.\u001b[0m\u001b[0mobj\u001b[0m\u001b[1;33m)\u001b[0m\u001b[1;33m\u001b[0m\u001b[0m\n\u001b[1;32m--> 879\u001b[1;33m             \u001b[1;32mreturn\u001b[0m \u001b[0mself\u001b[0m\u001b[1;33m.\u001b[0m\u001b[0m_getitem_axis\u001b[0m\u001b[1;33m(\u001b[0m\u001b[0mmaybe_callable\u001b[0m\u001b[1;33m,\u001b[0m \u001b[0maxis\u001b[0m\u001b[1;33m=\u001b[0m\u001b[0maxis\u001b[0m\u001b[1;33m)\u001b[0m\u001b[1;33m\u001b[0m\u001b[0m\n\u001b[0m\u001b[0;32m    880\u001b[0m \u001b[1;33m\u001b[0m\u001b[0m\n\u001b[0;32m    881\u001b[0m     \u001b[1;32mdef\u001b[0m \u001b[0m_is_scalar_access\u001b[0m\u001b[1;33m(\u001b[0m\u001b[0mself\u001b[0m\u001b[1;33m,\u001b[0m \u001b[0mkey\u001b[0m\u001b[1;33m:\u001b[0m \u001b[0mTuple\u001b[0m\u001b[1;33m)\u001b[0m\u001b[1;33m:\u001b[0m\u001b[1;33m\u001b[0m\u001b[0m\n",
      "\u001b[1;32m~\\Anaconda3\\lib\\site-packages\\pandas\\core\\indexing.py\u001b[0m in \u001b[0;36m_getitem_axis\u001b[1;34m(self, key, axis)\u001b[0m\n\u001b[0;32m   1491\u001b[0m             \u001b[0mkey\u001b[0m \u001b[1;33m=\u001b[0m \u001b[0mitem_from_zerodim\u001b[0m\u001b[1;33m(\u001b[0m\u001b[0mkey\u001b[0m\u001b[1;33m)\u001b[0m\u001b[1;33m\u001b[0m\u001b[0m\n\u001b[0;32m   1492\u001b[0m             \u001b[1;32mif\u001b[0m \u001b[1;32mnot\u001b[0m \u001b[0mis_integer\u001b[0m\u001b[1;33m(\u001b[0m\u001b[0mkey\u001b[0m\u001b[1;33m)\u001b[0m\u001b[1;33m:\u001b[0m\u001b[1;33m\u001b[0m\u001b[0m\n\u001b[1;32m-> 1493\u001b[1;33m                 \u001b[1;32mraise\u001b[0m \u001b[0mTypeError\u001b[0m\u001b[1;33m(\u001b[0m\u001b[1;34m\"Cannot index by location index with a non-integer key\"\u001b[0m\u001b[1;33m)\u001b[0m\u001b[1;33m\u001b[0m\u001b[0m\n\u001b[0m\u001b[0;32m   1494\u001b[0m \u001b[1;33m\u001b[0m\u001b[0m\n\u001b[0;32m   1495\u001b[0m             \u001b[1;31m# validate the location\u001b[0m\u001b[1;33m\u001b[0m\u001b[1;33m\u001b[0m\u001b[0m\n",
      "\u001b[1;31mTypeError\u001b[0m: Cannot index by location index with a non-integer key"
     ]
    }
   ],
   "source": [
    "i=0\n",
    "for i in test.iloc[[i]]:\n",
    "    if test.iloc[[i]]['ItemCat']=='의류':\n",
    "        y_pred=model_clothes.predict(test_x)\n",
    "        test.iloc[[i]]['sales']=y_pred\n",
    "        test.iloc[[i]]['SellingPrice']=y_pred*test.iloc[[i]]['Price']\n",
    "        \n",
    "    elif test.iloc[[i]]['ItemCat']=='주방':\n",
    "        y_pred=model_kitchen.predict(test_x)\n",
    "        test.iloc[[i]]['sales']=y_pred\n",
    "        test.iloc[[i]]['SellingPrice']=y_pred*test.iloc[[i]]['Price']\n",
    "        \n",
    "    elif test.iloc[[i]]['ItemCat']=='가전':\n",
    "        y_pred=model_electronic.predict(test_x)\n",
    "        test.iloc[[i]]['sales']=y_pred\n",
    "        test.iloc[[i]]['SellingPrice']=y_pred*test.iloc[[i]]['Price']\n",
    "        \n",
    "    elif test.iloc[[i]]['ItemCat']=='속옷':\n",
    "        y_pred=model_underwear.predict(test_x)\n",
    "        test.iloc[[i]]['sales']=y_pred\n",
    "        test.iloc[[i]]['SellingPrice']=y_pred*test.iloc[[i]]['Price']\n",
    "        \n",
    "    elif test.iloc[[i]]['ItemCat']=='농수축':\n",
    "        y_pred=model_farm.predict(test_x)\n",
    "        test.iloc[[i]]['sales']=y_pred\n",
    "        test.iloc[[i]]['SellingPrice']=y_pred*test.iloc[[i]]['Price']\n",
    "        \n",
    "    elif test.iloc[[i]]['ItemCat']=='잡화':\n",
    "        y_pred=model_goods.predict(test_x)\n",
    "        test.iloc[[i]]['sales']=y_pred\n",
    "        test.iloc[[i]]['SellingPrice']=y_pred*test.iloc[[i]]['Price']\n",
    "        \n",
    "    elif test.iloc[[i]]['ItemCat']=='생활용품':\n",
    "        y_pred=model_dailygoods.predict(test_x)\n",
    "        test.iloc[[i]]['sales']=y_pred\n",
    "        test.iloc[[i]]['SellingPrice']=y_pred*test.iloc[[i]]['Price']\n",
    "        \n",
    "    elif test.iloc[[i]]['ItemCat']=='가구':\n",
    "        y_pred=model_funiture.predict(test_x)\n",
    "        test.iloc[[i]]['sales']=y_pred\n",
    "        test.iloc[[i]]['SellingPrice']=y_pred*test.iloc[[i]]['Price']\n",
    "        \n",
    "    elif test.iloc[[i]]['ItemCat']=='이미용':\n",
    "        y_pred=model_hair.predict(test_x)\n",
    "        test.iloc[[i]]['sales']=y_pred\n",
    "        test.iloc[[i]]['SellingPrice']=y_pred*test.iloc[[i]]['Price']\n",
    "        \n",
    "    elif test.iloc[[i]]['ItemCat']=='건강기능':\n",
    "        y_pred=model_health.predict(test_x)\n",
    "        test.iloc[[i]]['sales']=y_pred\n",
    "        test.iloc[[i]]['SellingPrice']=y_pred*test.iloc[[i]]['Price']\n",
    "        \n",
    "    else :\n",
    "        y_pred=model_bed.predict(test_x)\n",
    "        test.iloc[[i]]['sales']=y_pred\n",
    "        test.iloc[[i]]['SellingPrice']=y_pred*test.iloc[[i]]['Price']\n",
    "    i=i+1   \n"
   ]
  },
  {
   "cell_type": "code",
   "execution_count": null,
   "metadata": {},
   "outputs": [],
   "source": []
  }
 ],
 "metadata": {
  "kernelspec": {
   "display_name": "Python 3",
   "language": "python",
   "name": "python3"
  },
  "language_info": {
   "codemirror_mode": {
    "name": "ipython",
    "version": 3
   },
   "file_extension": ".py",
   "mimetype": "text/x-python",
   "name": "python",
   "nbconvert_exporter": "python",
   "pygments_lexer": "ipython3",
   "version": "3.6.5"
  }
 },
 "nbformat": 4,
 "nbformat_minor": 2
}
